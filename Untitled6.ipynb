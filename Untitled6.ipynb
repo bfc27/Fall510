{
 "cells": [
  {
   "cell_type": "code",
   "execution_count": null,
   "metadata": {
    "collapsed": true
   },
   "outputs": [],
   "source": [
    "def correction(phrase):\n",
    "    n=0\n",
    "    q=0\n",
    "    while '  ' in phrase:\n",
    "        phrase=phrase.replace('  ', ' ')\n",
    "    while '.' in phrase:\n",
    "        if '. ' not in phrase:\n",
    "            phrase=phrase.replace('.', '. ')\n",
    "    print(phrase)\n",
    "    \n",
    "correction('h  e  l  l  o')\n",
    "correction('t.h.e.r.e')"
   ]
  },
  {
   "cell_type": "code",
   "execution_count": null,
   "metadata": {
    "collapsed": true
   },
   "outputs": [],
   "source": []
  }
 ],
 "metadata": {
  "kernelspec": {
   "display_name": "Python 3",
   "language": "python",
   "name": "python3"
  },
  "language_info": {
   "codemirror_mode": {
    "name": "ipython",
    "version": 3
   },
   "file_extension": ".py",
   "mimetype": "text/x-python",
   "name": "python",
   "nbconvert_exporter": "python",
   "pygments_lexer": "ipython3",
   "version": "3.4.3"
  }
 },
 "nbformat": 4,
 "nbformat_minor": 0
}
