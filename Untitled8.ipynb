{
 "cells": [
  {
   "cell_type": "code",
   "execution_count": 1,
   "metadata": {
    "collapsed": true
   },
   "outputs": [],
   "source": [
    "def make_3sg_form(words): #define function\n",
    "    \"\"\" The make_3sg_form function takes a list of infinitive verbs and returns the 3rd person singluar form of the verbs\n",
    "    \n",
    "    Parameters:\n",
    "      words- words is a list of strings \n",
    "    \"\"\"\n",
    "    list=['o', 'ch', 's', 'sh', 'x', 'z'] #create a list of strings that all have the same action done upon them. Sorry can't speak properly\n",
    "    if words.endswith('y'): #change according to rule\n",
    "        words=words.replace('y', 'ies') #to make plural -ies\n",
    "    elif words.endswith(tuple(list)):#tests if the word ends with any of the endings in the list from above\n",
    "        words=words + 'es' #if so it changes to es\n",
    "    else: #otherwise, the standard is just to \n",
    "        words=words+'s' #add s\n",
    "    return(words) #print results\n"
   ]
  },
  {
   "cell_type": "code",
   "execution_count": 2,
   "metadata": {
    "collapsed": false
   },
   "outputs": [
    {
     "data": {
      "text/plain": [
       "'tries'"
      ]
     },
     "execution_count": 2,
     "metadata": {},
     "output_type": "execute_result"
    }
   ],
   "source": [
    "make_3sg_form('try') #test "
   ]
  },
  {
   "cell_type": "code",
   "execution_count": null,
   "metadata": {
    "collapsed": true
   },
   "outputs": [],
   "source": []
  }
 ],
 "metadata": {
  "kernelspec": {
   "display_name": "Python 3",
   "language": "python",
   "name": "python3"
  },
  "language_info": {
   "codemirror_mode": {
    "name": "ipython",
    "version": 3
   },
   "file_extension": ".py",
   "mimetype": "text/x-python",
   "name": "python",
   "nbconvert_exporter": "python",
   "pygments_lexer": "ipython3",
   "version": "3.4.3"
  }
 },
 "nbformat": 4,
 "nbformat_minor": 0
}
