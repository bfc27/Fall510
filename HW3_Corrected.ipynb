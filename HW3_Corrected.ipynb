{
 "cells": [
  {
   "cell_type": "markdown",
   "metadata": {},
   "source": [
    "#HW 3 Python"
   ]
  },
  {
   "cell_type": "markdown",
   "metadata": {},
   "source": [
    "SW: great job overall, see below for a few comments about where you need to consider the input arguments in a bit more detail. defensive programming (assuming you won't get well-formed input) can save much heartache when debugging."
   ]
  },
  {
   "cell_type": "markdown",
   "metadata": {},
   "source": [
    "###1. Histogram"
   ]
  },
  {
   "cell_type": "code",
   "execution_count": 2,
   "metadata": {
    "collapsed": false
   },
   "outputs": [],
   "source": [
    "def histogram(integers): #define function\n",
    "    \"\"\" The histogram function takes a list of integers and prints a histogram based on these. \n",
    "    \n",
    "    Parameters:\n",
    "      integers- integers is a list of integers\n",
    "    \"\"\"\n",
    "    for i in integers: #go through the list\n",
    "        while i>0: \n",
    "            print('*', end='') #print one * for the value of the integer\n",
    "            i=i-1 #reduce the value of i, so that while i>0 stops at the value of the integer\n",
    "        print() #go to next line\n",
    "#the function does not return anything because the directions ask only that it print something to the screen\n"
   ]
  },
  {
   "cell_type": "code",
   "execution_count": 22,
   "metadata": {
    "collapsed": false
   },
   "outputs": [
    {
     "name": "stdout",
     "output_type": "stream",
     "text": [
      "**\n",
      "***\n",
      "****\n",
      "*\n"
     ]
    }
   ],
   "source": [
    "histogram((2, 3, 4)) #practice"
   ]
  },
  {
   "cell_type": "markdown",
   "metadata": {},
   "source": [
    "###2. Max in list"
   ]
  },
  {
   "cell_type": "code",
   "execution_count": 27,
   "metadata": {
    "collapsed": true
   },
   "outputs": [],
   "source": [
    "def max_in_list(list): #define function\n",
    "    \"\"\" The max_in_list function takes a list of integers and returns which of them has the greatest value. \n",
    "    \n",
    "    Parameters:\n",
    "      list- list is a list of integers\n",
    "    \"\"\"\n",
    "    max=list[1] #assign  the first integer in the list to the variable max\n",
    "    for s in list: #go through all integers in list\n",
    "        if s>max: #determine if s>max\n",
    "            max=s #if it is, then s is the new max\n",
    "    return(max) #return the result\n",
    "\n",
    "# SW: lost points: your function should be able to handle a list of length 1, i.e., max_in_list([17]) should return\n",
    "#     17. you are indexing from element 1, which is actually the second element of the list. remember that a Python \n",
    "#     list index begins at 0."
   ]
  },
  {
   "cell_type": "code",
   "execution_count": 29,
   "metadata": {
    "collapsed": false
   },
   "outputs": [
    {
     "data": {
      "text/plain": [
       "9"
      ]
     },
     "execution_count": 29,
     "metadata": {},
     "output_type": "execute_result"
    }
   ],
   "source": [
    "max_in_list((9, 0, 4, 6, -3)) #test"
   ]
  },
  {
   "cell_type": "code",
   "execution_count": 21,
   "metadata": {
    "collapsed": false
   },
   "outputs": [
    {
     "data": {
      "text/plain": [
       "11"
      ]
     },
     "execution_count": 21,
     "metadata": {},
     "output_type": "execute_result"
    }
   ],
   "source": [
    "max_in_list((9, 3, 7, 11))"
   ]
  },
  {
   "cell_type": "markdown",
   "metadata": {},
   "source": [
    "###3. Words to numbers"
   ]
  },
  {
   "cell_type": "code",
   "execution_count": 31,
   "metadata": {
    "collapsed": false
   },
   "outputs": [],
   "source": [
    "def words(list):\n",
    "    \"\"\" The words function takes a list of words and returns the length of each string in the list. \n",
    "    \n",
    "    Parameters:\n",
    "      list- list is a list of strings\n",
    "    \"\"\"\n",
    "    lengths=[] #assign an empty list to the variable lengths\n",
    "    for w in list: #goes through the list one item at a time\n",
    "        n=0 #need to set or reset n, the length, after each iteration\n",
    "        for s in w: #goes through each letter of the word\n",
    "            n=n+1 #counts by adding one for each letter\n",
    "        lengths=lengths+[n]  #add the final count of n (the length of the word) to the list lengths\n",
    "    return(lengths) #return the list of lengths of each word in the original list"
   ]
  },
  {
   "cell_type": "code",
   "execution_count": 37,
   "metadata": {
    "collapsed": false
   },
   "outputs": [
    {
     "data": {
      "text/plain": [
       "[4, 6, 5]"
      ]
     },
     "execution_count": 37,
     "metadata": {},
     "output_type": "execute_result"
    }
   ],
   "source": [
    "words(('list', 'orange', 'apple'))#test!"
   ]
  },
  {
   "cell_type": "markdown",
   "metadata": {},
   "source": [
    "###4. Longest Word"
   ]
  },
  {
   "cell_type": "code",
   "execution_count": 38,
   "metadata": {
    "collapsed": true
   },
   "outputs": [],
   "source": [
    "def find_longest_word(wordlist):\n",
    "    \"\"\" The find_longest_word function takes a list of words and returns which of these has the greatest length. \n",
    "    \n",
    "    Parameters:\n",
    "      wordlist- wordlist is a list of strings\n",
    "    \"\"\"\n",
    "    longest=0 #assigns 0 to the variable longest\n",
    "    for w in wordlist: #goes through the list one item at a time\n",
    "        n=0 #defines variable n and puts 0 into it\n",
    "        for s in w: #goes through each letter of the word\n",
    "            n=n+1 #counts by adding one for each letter\n",
    "        if n>longest: #determines if n>longest\n",
    "            longest=n #if it is, then n is the new longest\n",
    "    return(longest) #return the length of the longest word\n"
   ]
  },
  {
   "cell_type": "code",
   "execution_count": 43,
   "metadata": {
    "collapsed": false
   },
   "outputs": [
    {
     "data": {
      "text/plain": [
       "34"
      ]
     },
     "execution_count": 43,
     "metadata": {},
     "output_type": "execute_result"
    }
   ],
   "source": [
    "find_longest_word(('wonderful', 'supercalifragilisticexpialidocious','obnoxious')) #test it out!"
   ]
  },
  {
   "cell_type": "markdown",
   "metadata": {},
   "source": [
    "###5. Filter long words"
   ]
  },
  {
   "cell_type": "code",
   "execution_count": 44,
   "metadata": {
    "collapsed": true
   },
   "outputs": [],
   "source": [
    "def filter_long_words(words, r): #define function\n",
    "    \"\"\" The filter_long_words function takes a list of words and an integer and returns a list of only the words with length at least of\n",
    "        the integer. \n",
    "    \n",
    "    Parameters:\n",
    "      words- words is a list of strings\n",
    "      r- r is an integer\n",
    "    \"\"\"\n",
    "    longwords=[] #assign an empty list to the variable longwords\n",
    "    for w in words: #go through the list of words\n",
    "        n=0 #define variable n and put 0 in it\n",
    "        for s in w: #goes through letters in the word\n",
    "            n=n+1 #adds one for every letter\n",
    "        if n>r: #determines if n>= integer from function\n",
    "            longwords=longwords+ [w]\n",
    "    return(longwords)\n"
   ]
  },
  {
   "cell_type": "code",
   "execution_count": 47,
   "metadata": {
    "collapsed": false
   },
   "outputs": [
    {
     "data": {
      "text/plain": [
       "['apples', 'oranges']"
      ]
     },
     "execution_count": 47,
     "metadata": {},
     "output_type": "execute_result"
    }
   ],
   "source": [
    "filter_long_words(('apples', 'oranges', 'pi', 'pie'), 3) #test!"
   ]
  },
  {
   "cell_type": "markdown",
   "metadata": {},
   "source": [
    "###6. Palindromes"
   ]
  },
  {
   "cell_type": "code",
   "execution_count": 48,
   "metadata": {
    "collapsed": true
   },
   "outputs": [],
   "source": [
    "def palindrome(phrase): #define function\n",
    "    \n",
    "    \"\"\" The palindrome function takes a string and returns whether it is a palindrome or not.\n",
    "    \n",
    "    Parameters:\n",
    "      phrase- phrase is a string\n",
    "    \"\"\"\n",
    "    reverse=\"\" #assigns an empty string to reverse\n",
    "    for p in phrase: #goes through characters in phrase\n",
    "        if p.isalpha(): #if character is a letter or a space\n",
    "            if p.isspace(): #if it is a space\n",
    "                reverse=\"\"+reverse #create reverse with no space\n",
    "                phrase=phrase.replace(p, '') #take out the space from orig phrase\n",
    "            elif p.isupper(): #if p uppercase\n",
    "                phrase=phrase.replace(p, p.lower()) #replace with lowercase in orig phrase\n",
    "                p=p.lower() #set p as its lowercase counterpart\n",
    "                reverse=p+reverse #add to reverse in lowercase\n",
    "            else: #otherwise\n",
    "                reverse=p+reverse #just keep making the palindrome, which is done by adding the new term in front of the old phrase \n",
    "        else: #if character is not a letter or space\n",
    "            reverse=\"\"+reverse #keep on trucking with the reverse\n",
    "            phrase=phrase.replace(p, '') #get rid of it!\n",
    "    return(phrase==reverse) #if reverse is the same as the orig phrase..../\n"
   ]
  },
  {
   "cell_type": "code",
   "execution_count": 55,
   "metadata": {
    "collapsed": false
   },
   "outputs": [
    {
     "data": {
      "text/plain": [
       "False"
      ]
     },
     "execution_count": 55,
     "metadata": {},
     "output_type": "execute_result"
    }
   ],
   "source": [
    "palindrome(\"Phrase:)\") #testers"
   ]
  },
  {
   "cell_type": "code",
   "execution_count": 50,
   "metadata": {
    "collapsed": false
   },
   "outputs": [
    {
     "data": {
      "text/plain": [
       "True"
      ]
     },
     "execution_count": 50,
     "metadata": {},
     "output_type": "execute_result"
    }
   ],
   "source": [
    "palindrome(\"A man, a plan, a canal. Panama!\")"
   ]
  },
  {
   "cell_type": "code",
   "execution_count": 31,
   "metadata": {
    "collapsed": false
   },
   "outputs": [
    {
     "data": {
      "text/plain": [
       "True"
      ]
     },
     "execution_count": 31,
     "metadata": {},
     "output_type": "execute_result"
    }
   ],
   "source": [
    "palindrome(\"Lisa Bonet ate no basil\")"
   ]
  },
  {
   "cell_type": "code",
   "execution_count": 32,
   "metadata": {
    "collapsed": false
   },
   "outputs": [
    {
     "data": {
      "text/plain": [
       "True"
      ]
     },
     "execution_count": 32,
     "metadata": {},
     "output_type": "execute_result"
    }
   ],
   "source": [
    "palindrome(\"Dammit, I'm mad!\")"
   ]
  },
  {
   "cell_type": "markdown",
   "metadata": {},
   "source": [
    "###7. Pangram"
   ]
  },
  {
   "cell_type": "code",
   "execution_count": 56,
   "metadata": {
    "collapsed": true
   },
   "outputs": [],
   "source": [
    "def pangram(words): #define function \n",
    "    \"\"\" The pangram function takes a string and returns whether uses all 26 letters of the alphabet or not.\n",
    "    \n",
    "    Parameters:\n",
    "      words- words is a string\n",
    "    \"\"\"\n",
    "    alphabet='abcdefghijklmnopqrstuvwxyz' #define the alphabet\n",
    "    c=0 #assigns 0 to the variable c\n",
    "    for w in words: #go through all characters in the string\n",
    "        if w.isupper: #need to change from uppercase to lowercase, because only defined the alphabet in lowercase. If you define it in both, your string would need to satisfy all 52 letters if it were to be declared a pangram by my function.\n",
    "            words=words.replace(w, w.lower()) #replace uppercase by lowercase letters\n",
    "    for a in alphabet: #go through each letter in alphabet\n",
    "        if a not in words: #if any letter is NOT in the string\n",
    "            c=1 #define c as 1, to differentiate it\n",
    "            break #this isn't absolutely necessary, as we would still get whether it is a pangram or not, but it stops checking as soon as we find out it is not. I just like that better than going through it all.\n",
    "        else: #if a letter is in words, then continue\n",
    "            c=0 #keep it the same\n",
    "    return(c==0) #this test has to be outside the for-loop if we just want results for the whole string at once\n"
   ]
  },
  {
   "cell_type": "code",
   "execution_count": 57,
   "metadata": {
    "collapsed": false
   },
   "outputs": [
    {
     "data": {
      "text/plain": [
       "True"
      ]
     },
     "execution_count": 57,
     "metadata": {},
     "output_type": "execute_result"
    }
   ],
   "source": [
    "pangram('The quick brown fox jumps over the lazy dog.') #test\n"
   ]
  },
  {
   "cell_type": "code",
   "execution_count": 35,
   "metadata": {
    "collapsed": false
   },
   "outputs": [
    {
     "data": {
      "text/plain": [
       "False"
      ]
     },
     "execution_count": 35,
     "metadata": {},
     "output_type": "execute_result"
    }
   ],
   "source": [
    "pangram('supercalifragilisticexpialidocious!!')\n"
   ]
  },
  {
   "cell_type": "code",
   "execution_count": 63,
   "metadata": {
    "collapsed": false
   },
   "outputs": [
    {
     "data": {
      "text/plain": [
       "True"
      ]
     },
     "execution_count": 63,
     "metadata": {},
     "output_type": "execute_result"
    }
   ],
   "source": [
    "pangram('Sphinx of black quartz, judge my vow')"
   ]
  },
  {
   "cell_type": "markdown",
   "metadata": {},
   "source": [
    "###8. 99 Bottles of Coke"
   ]
  },
  {
   "cell_type": "code",
   "execution_count": 64,
   "metadata": {
    "collapsed": false
   },
   "outputs": [],
   "source": [
    "def game(n=99): #define function\n",
    "    \"\"\" The game takes a number as input and returns the game of 99 bottles of coke on the wall, starting with the input integer\n",
    "    \n",
    "    Parameters:\n",
    "      n-n is an integer. It defaults at 99, returning the entire game. It can be set to any integer, and it will return the\n",
    "          game starting at that integer\n",
    "    \"\"\"\n",
    "    game='' #assign an empty string to the variable game\n",
    "    while n>0: #play game while n>0\n",
    "        verse1=\" bottles of coke on the wall, \" #first verse\n",
    "        verse2=\" bottles of coke. Take one down, pass it around, \" #second verse\n",
    "        game=game+str(n)+verse1+str(n)+verse2 # add to the string of game by adding a number to the verses above\n",
    "        n=n-1 #reduce n by 1\n",
    "        verse3=\" bottles of coke on the wall.\" #third verse\n",
    "        game=game+str(n)+verse3 #now add the third verse, with n-1 as the new n\n",
    "    game=game+(\" Game over!\") #add Game Over to the string at the end\n",
    "    return(game) #return a string, which contains the game\n"
   ]
  },
  {
   "cell_type": "code",
   "execution_count": 65,
   "metadata": {
    "collapsed": false
   },
   "outputs": [
    {
     "data": {
      "text/plain": [
       "'5 bottles of coke on the wall, 5 bottles of coke. Take one down, pass it around, 4 bottles of coke on the wall.4 bottles of coke on the wall, 4 bottles of coke. Take one down, pass it around, 3 bottles of coke on the wall.3 bottles of coke on the wall, 3 bottles of coke. Take one down, pass it around, 2 bottles of coke on the wall.2 bottles of coke on the wall, 2 bottles of coke. Take one down, pass it around, 1 bottles of coke on the wall.1 bottles of coke on the wall, 1 bottles of coke. Take one down, pass it around, 0 bottles of coke on the wall. Game over!'"
      ]
     },
     "execution_count": 65,
     "metadata": {},
     "output_type": "execute_result"
    }
   ],
   "source": [
    "game(5)"
   ]
  },
  {
   "cell_type": "code",
   "execution_count": 39,
   "metadata": {
    "collapsed": false
   },
   "outputs": [
    {
     "data": {
      "text/plain": [
       "'99 bottles of coke on the wall, 99 bottles of coke. Take one down, pass it around, 98 bottles of coke on the wall.98 bottles of coke on the wall, 98 bottles of coke. Take one down, pass it around, 97 bottles of coke on the wall.97 bottles of coke on the wall, 97 bottles of coke. Take one down, pass it around, 96 bottles of coke on the wall.96 bottles of coke on the wall, 96 bottles of coke. Take one down, pass it around, 95 bottles of coke on the wall.95 bottles of coke on the wall, 95 bottles of coke. Take one down, pass it around, 94 bottles of coke on the wall.94 bottles of coke on the wall, 94 bottles of coke. Take one down, pass it around, 93 bottles of coke on the wall.93 bottles of coke on the wall, 93 bottles of coke. Take one down, pass it around, 92 bottles of coke on the wall.92 bottles of coke on the wall, 92 bottles of coke. Take one down, pass it around, 91 bottles of coke on the wall.91 bottles of coke on the wall, 91 bottles of coke. Take one down, pass it around, 90 bottles of coke on the wall.90 bottles of coke on the wall, 90 bottles of coke. Take one down, pass it around, 89 bottles of coke on the wall.89 bottles of coke on the wall, 89 bottles of coke. Take one down, pass it around, 88 bottles of coke on the wall.88 bottles of coke on the wall, 88 bottles of coke. Take one down, pass it around, 87 bottles of coke on the wall.87 bottles of coke on the wall, 87 bottles of coke. Take one down, pass it around, 86 bottles of coke on the wall.86 bottles of coke on the wall, 86 bottles of coke. Take one down, pass it around, 85 bottles of coke on the wall.85 bottles of coke on the wall, 85 bottles of coke. Take one down, pass it around, 84 bottles of coke on the wall.84 bottles of coke on the wall, 84 bottles of coke. Take one down, pass it around, 83 bottles of coke on the wall.83 bottles of coke on the wall, 83 bottles of coke. Take one down, pass it around, 82 bottles of coke on the wall.82 bottles of coke on the wall, 82 bottles of coke. Take one down, pass it around, 81 bottles of coke on the wall.81 bottles of coke on the wall, 81 bottles of coke. Take one down, pass it around, 80 bottles of coke on the wall.80 bottles of coke on the wall, 80 bottles of coke. Take one down, pass it around, 79 bottles of coke on the wall.79 bottles of coke on the wall, 79 bottles of coke. Take one down, pass it around, 78 bottles of coke on the wall.78 bottles of coke on the wall, 78 bottles of coke. Take one down, pass it around, 77 bottles of coke on the wall.77 bottles of coke on the wall, 77 bottles of coke. Take one down, pass it around, 76 bottles of coke on the wall.76 bottles of coke on the wall, 76 bottles of coke. Take one down, pass it around, 75 bottles of coke on the wall.75 bottles of coke on the wall, 75 bottles of coke. Take one down, pass it around, 74 bottles of coke on the wall.74 bottles of coke on the wall, 74 bottles of coke. Take one down, pass it around, 73 bottles of coke on the wall.73 bottles of coke on the wall, 73 bottles of coke. Take one down, pass it around, 72 bottles of coke on the wall.72 bottles of coke on the wall, 72 bottles of coke. Take one down, pass it around, 71 bottles of coke on the wall.71 bottles of coke on the wall, 71 bottles of coke. Take one down, pass it around, 70 bottles of coke on the wall.70 bottles of coke on the wall, 70 bottles of coke. Take one down, pass it around, 69 bottles of coke on the wall.69 bottles of coke on the wall, 69 bottles of coke. Take one down, pass it around, 68 bottles of coke on the wall.68 bottles of coke on the wall, 68 bottles of coke. Take one down, pass it around, 67 bottles of coke on the wall.67 bottles of coke on the wall, 67 bottles of coke. Take one down, pass it around, 66 bottles of coke on the wall.66 bottles of coke on the wall, 66 bottles of coke. Take one down, pass it around, 65 bottles of coke on the wall.65 bottles of coke on the wall, 65 bottles of coke. Take one down, pass it around, 64 bottles of coke on the wall.64 bottles of coke on the wall, 64 bottles of coke. Take one down, pass it around, 63 bottles of coke on the wall.63 bottles of coke on the wall, 63 bottles of coke. Take one down, pass it around, 62 bottles of coke on the wall.62 bottles of coke on the wall, 62 bottles of coke. Take one down, pass it around, 61 bottles of coke on the wall.61 bottles of coke on the wall, 61 bottles of coke. Take one down, pass it around, 60 bottles of coke on the wall.60 bottles of coke on the wall, 60 bottles of coke. Take one down, pass it around, 59 bottles of coke on the wall.59 bottles of coke on the wall, 59 bottles of coke. Take one down, pass it around, 58 bottles of coke on the wall.58 bottles of coke on the wall, 58 bottles of coke. Take one down, pass it around, 57 bottles of coke on the wall.57 bottles of coke on the wall, 57 bottles of coke. Take one down, pass it around, 56 bottles of coke on the wall.56 bottles of coke on the wall, 56 bottles of coke. Take one down, pass it around, 55 bottles of coke on the wall.55 bottles of coke on the wall, 55 bottles of coke. Take one down, pass it around, 54 bottles of coke on the wall.54 bottles of coke on the wall, 54 bottles of coke. Take one down, pass it around, 53 bottles of coke on the wall.53 bottles of coke on the wall, 53 bottles of coke. Take one down, pass it around, 52 bottles of coke on the wall.52 bottles of coke on the wall, 52 bottles of coke. Take one down, pass it around, 51 bottles of coke on the wall.51 bottles of coke on the wall, 51 bottles of coke. Take one down, pass it around, 50 bottles of coke on the wall.50 bottles of coke on the wall, 50 bottles of coke. Take one down, pass it around, 49 bottles of coke on the wall.49 bottles of coke on the wall, 49 bottles of coke. Take one down, pass it around, 48 bottles of coke on the wall.48 bottles of coke on the wall, 48 bottles of coke. Take one down, pass it around, 47 bottles of coke on the wall.47 bottles of coke on the wall, 47 bottles of coke. Take one down, pass it around, 46 bottles of coke on the wall.46 bottles of coke on the wall, 46 bottles of coke. Take one down, pass it around, 45 bottles of coke on the wall.45 bottles of coke on the wall, 45 bottles of coke. Take one down, pass it around, 44 bottles of coke on the wall.44 bottles of coke on the wall, 44 bottles of coke. Take one down, pass it around, 43 bottles of coke on the wall.43 bottles of coke on the wall, 43 bottles of coke. Take one down, pass it around, 42 bottles of coke on the wall.42 bottles of coke on the wall, 42 bottles of coke. Take one down, pass it around, 41 bottles of coke on the wall.41 bottles of coke on the wall, 41 bottles of coke. Take one down, pass it around, 40 bottles of coke on the wall.40 bottles of coke on the wall, 40 bottles of coke. Take one down, pass it around, 39 bottles of coke on the wall.39 bottles of coke on the wall, 39 bottles of coke. Take one down, pass it around, 38 bottles of coke on the wall.38 bottles of coke on the wall, 38 bottles of coke. Take one down, pass it around, 37 bottles of coke on the wall.37 bottles of coke on the wall, 37 bottles of coke. Take one down, pass it around, 36 bottles of coke on the wall.36 bottles of coke on the wall, 36 bottles of coke. Take one down, pass it around, 35 bottles of coke on the wall.35 bottles of coke on the wall, 35 bottles of coke. Take one down, pass it around, 34 bottles of coke on the wall.34 bottles of coke on the wall, 34 bottles of coke. Take one down, pass it around, 33 bottles of coke on the wall.33 bottles of coke on the wall, 33 bottles of coke. Take one down, pass it around, 32 bottles of coke on the wall.32 bottles of coke on the wall, 32 bottles of coke. Take one down, pass it around, 31 bottles of coke on the wall.31 bottles of coke on the wall, 31 bottles of coke. Take one down, pass it around, 30 bottles of coke on the wall.30 bottles of coke on the wall, 30 bottles of coke. Take one down, pass it around, 29 bottles of coke on the wall.29 bottles of coke on the wall, 29 bottles of coke. Take one down, pass it around, 28 bottles of coke on the wall.28 bottles of coke on the wall, 28 bottles of coke. Take one down, pass it around, 27 bottles of coke on the wall.27 bottles of coke on the wall, 27 bottles of coke. Take one down, pass it around, 26 bottles of coke on the wall.26 bottles of coke on the wall, 26 bottles of coke. Take one down, pass it around, 25 bottles of coke on the wall.25 bottles of coke on the wall, 25 bottles of coke. Take one down, pass it around, 24 bottles of coke on the wall.24 bottles of coke on the wall, 24 bottles of coke. Take one down, pass it around, 23 bottles of coke on the wall.23 bottles of coke on the wall, 23 bottles of coke. Take one down, pass it around, 22 bottles of coke on the wall.22 bottles of coke on the wall, 22 bottles of coke. Take one down, pass it around, 21 bottles of coke on the wall.21 bottles of coke on the wall, 21 bottles of coke. Take one down, pass it around, 20 bottles of coke on the wall.20 bottles of coke on the wall, 20 bottles of coke. Take one down, pass it around, 19 bottles of coke on the wall.19 bottles of coke on the wall, 19 bottles of coke. Take one down, pass it around, 18 bottles of coke on the wall.18 bottles of coke on the wall, 18 bottles of coke. Take one down, pass it around, 17 bottles of coke on the wall.17 bottles of coke on the wall, 17 bottles of coke. Take one down, pass it around, 16 bottles of coke on the wall.16 bottles of coke on the wall, 16 bottles of coke. Take one down, pass it around, 15 bottles of coke on the wall.15 bottles of coke on the wall, 15 bottles of coke. Take one down, pass it around, 14 bottles of coke on the wall.14 bottles of coke on the wall, 14 bottles of coke. Take one down, pass it around, 13 bottles of coke on the wall.13 bottles of coke on the wall, 13 bottles of coke. Take one down, pass it around, 12 bottles of coke on the wall.12 bottles of coke on the wall, 12 bottles of coke. Take one down, pass it around, 11 bottles of coke on the wall.11 bottles of coke on the wall, 11 bottles of coke. Take one down, pass it around, 10 bottles of coke on the wall.10 bottles of coke on the wall, 10 bottles of coke. Take one down, pass it around, 9 bottles of coke on the wall.9 bottles of coke on the wall, 9 bottles of coke. Take one down, pass it around, 8 bottles of coke on the wall.8 bottles of coke on the wall, 8 bottles of coke. Take one down, pass it around, 7 bottles of coke on the wall.7 bottles of coke on the wall, 7 bottles of coke. Take one down, pass it around, 6 bottles of coke on the wall.6 bottles of coke on the wall, 6 bottles of coke. Take one down, pass it around, 5 bottles of coke on the wall.5 bottles of coke on the wall, 5 bottles of coke. Take one down, pass it around, 4 bottles of coke on the wall.4 bottles of coke on the wall, 4 bottles of coke. Take one down, pass it around, 3 bottles of coke on the wall.3 bottles of coke on the wall, 3 bottles of coke. Take one down, pass it around, 2 bottles of coke on the wall.2 bottles of coke on the wall, 2 bottles of coke. Take one down, pass it around, 1 bottles of coke on the wall.1 bottles of coke on the wall, 1 bottles of coke. Take one down, pass it around, 0 bottles of coke on the wall. Game over!'"
      ]
     },
     "execution_count": 39,
     "metadata": {},
     "output_type": "execute_result"
    }
   ],
   "source": [
    "game() #plays the full game\n"
   ]
  },
  {
   "cell_type": "markdown",
   "metadata": {},
   "source": [
    "###9. Translate"
   ]
  },
  {
   "cell_type": "code",
   "execution_count": 66,
   "metadata": {
    "collapsed": false
   },
   "outputs": [],
   "source": [
    "def translate(words): #define function\n",
    "    \"\"\" The translate function takes a list of Christmas words in english and returns these words in a list in Swedish.\n",
    "    \n",
    "    Parameters:\n",
    "      words- words is a string of only merry, christmas, and, happy, new, and year\n",
    "    \"\"\"\n",
    "    dict = {\"merry\":\"god\", #define the small dictionary of english to swedish words from assignment\n",
    "                  \"christmas\":\"jul\",\n",
    "                  \"and\":\"och\",\n",
    "                  \"happy\":\"gott\",\n",
    "                  \"new\":\"nytt\",\n",
    "                  \"year\":\"år\"}\n",
    "    trans=[] #assign an empty list to the variable trans\n",
    "    for p in words: #consider one string in the list at a time \n",
    "        if p not in dict: #if p is not in the dictionary, we have someone trying to write something other than a proper Christmas greeting. Clearly we must stop them as soon as we can!\n",
    "            trans='Error: please enter a Christmas message' #so print error for them\n",
    "            break #we don't need to change the rest of the words if there is an error\n",
    "        else: #but if it is in the dictionary\n",
    "            trans=trans+[dict[p]] #add the new changed word to the list of translated words\n",
    "    return(trans) #return the list of translated words\n",
    "\n",
    "# SW: nice use of error handling."
   ]
  },
  {
   "cell_type": "code",
   "execution_count": 67,
   "metadata": {
    "collapsed": false
   },
   "outputs": [
    {
     "data": {
      "text/plain": [
       "['god', 'jul', 'och', 'gott', 'nytt', 'år']"
      ]
     },
     "execution_count": 67,
     "metadata": {},
     "output_type": "execute_result"
    }
   ],
   "source": [
    "translate(['merry', 'christmas', 'and', 'happy', 'new', 'year']) #test"
   ]
  },
  {
   "cell_type": "code",
   "execution_count": 42,
   "metadata": {
    "collapsed": false
   },
   "outputs": [
    {
     "data": {
      "text/plain": [
       "'Error: please enter a Christmas message'"
      ]
     },
     "execution_count": 42,
     "metadata": {},
     "output_type": "execute_result"
    }
   ],
   "source": [
    "translate(['hello', 'how', 'are', 'you'])"
   ]
  },
  {
   "cell_type": "markdown",
   "metadata": {},
   "source": [
    "###10. Character Frequency"
   ]
  },
  {
   "cell_type": "code",
   "execution_count": 69,
   "metadata": {
    "collapsed": false
   },
   "outputs": [],
   "source": [
    "def char_freq(string): #define function\n",
    "    \"\"\" The char_freq function takes a string a returns a Python dictionary of the frequency of the letters in that string\n",
    "    \n",
    "    Parameters:\n",
    "      string- string is a string of characters\n",
    "    \"\"\"\n",
    "    charlist=\"\" #assign an empty string to the variable charlist\n",
    "    n=0 #assign 0 to the variable n\n",
    "    nary={} #assign an empty dictionary to the variable nary\n",
    "    for s in string: #go through every character in string\n",
    "        if s not in charlist: #if it is not yet in the charlist\n",
    "            charlist += s #add it!\n",
    "    for char in charlist: #go through each character in charlist\n",
    "        n=0 #need to reset n=0 for each character\n",
    "        for s in string: #go through every variable in string\n",
    "            if char==s: #testing whether the char being tested is s, for every s in string\n",
    "                n=n+1 #if it is, add one to the occurences of char\n",
    "        nary[char]=n #add the total number of occurences of the character, char, to the dictionary. Defines char equal to n \n",
    "    return(nary) #return the frequency listing as a dictionary\n"
   ]
  },
  {
   "cell_type": "code",
   "execution_count": 70,
   "metadata": {
    "collapsed": false
   },
   "outputs": [
    {
     "data": {
      "text/plain": [
       "{'a': 7, 'b': 14, 'c': 3, 'd': 3}"
      ]
     },
     "execution_count": 70,
     "metadata": {},
     "output_type": "execute_result"
    }
   ],
   "source": [
    "char_freq('abbabcbdbabdbdbabababcbcbab') #test"
   ]
  },
  {
   "cell_type": "code",
   "execution_count": 74,
   "metadata": {
    "collapsed": false
   },
   "outputs": [
    {
     "data": {
      "text/plain": [
       "{' ': 4,\n",
       " '?': 1,\n",
       " 'A': 1,\n",
       " 'a': 1,\n",
       " 'e': 2,\n",
       " 'f': 1,\n",
       " 'g': 1,\n",
       " 'h': 1,\n",
       " 'i': 1,\n",
       " 'n': 2,\n",
       " 'o': 1,\n",
       " 'r': 1,\n",
       " 't': 1,\n",
       " 'u': 2,\n",
       " 'v': 1,\n",
       " 'y': 2}"
      ]
     },
     "execution_count": 74,
     "metadata": {},
     "output_type": "execute_result"
    }
   ],
   "source": [
    "char_freq('Are you having fun yet?')"
   ]
  },
  {
   "cell_type": "markdown",
   "metadata": {},
   "source": [
    "###11. ROT-13"
   ]
  },
  {
   "cell_type": "code",
   "execution_count": 75,
   "metadata": {
    "collapsed": false
   },
   "outputs": [],
   "source": [
    "def ROT13(phrase): #define function\n",
    "    \"\"\" The ROT13 function takes a string and returns its Ceasar cipher. The Ceaser cipher shifts each letter by 13. \n",
    "        For example, a beca\n",
    "    \n",
    "    Parameters:\n",
    "      phrase- phrase is a string \n",
    "    \"\"\"\n",
    "    dict={'a':'n','b':'o','c':'p','d':'q','e':'r','f':'s','g':'t','h':'u',\n",
    "    'i':'v','j':'w','k':'x','l':'y','m':'z','n':'a','o':'b','p':'c',\n",
    "    'q':'d','r':'e','s':'f','t':'g','u':'h','v':'i','w':'j','x':'k',\n",
    "    'y':'l','z':'m','A':'N','B':'O','C':'P','D':'Q','E':'R','F':'S',\n",
    "    'G':'T','H':'U','I':'V','J':'W','K':'X','L':'Y','M':'Z','N':'A',\n",
    "    'O':'B','P':'C','Q':'D','R':'E','S':'F','T':'G','U':'H','V':'I',\n",
    "    'W':'J','X':'K','Y':'L','Z':'M'} #add dictionary as in assignment\n",
    "    result=[] #assign an empty list to the varaible result\n",
    "    for p in phrase: #consider each character in phrase. This is much simpler than the swedish conversion, becuase we did not need to print an error if there is not translation.\n",
    "        if p not in dict: #if the character is not in dict, or is not a letter\n",
    "            result=result+[p] #add that character to the result without change\n",
    "        else: #if it is\n",
    "            result=result+[dict[p]] #add the dictionary value for that character to the result\n",
    "    result= ''.join(result) #created a list of the new words. Join them together to get a string\n",
    "    return(result) #return the result\n",
    "\n",
    "# SW: excellent"
   ]
  },
  {
   "cell_type": "code",
   "execution_count": 78,
   "metadata": {
    "collapsed": false
   },
   "outputs": [
    {
     "data": {
      "text/plain": [
       "'Caesar cipher? I much prefer Caesar salad!'"
      ]
     },
     "execution_count": 78,
     "metadata": {},
     "output_type": "execute_result"
    }
   ],
   "source": [
    "ROT13('Pnrfne pvcure? V zhpu cersre Pnrfne fnynq!') #Me too!!"
   ]
  },
  {
   "cell_type": "markdown",
   "metadata": {},
   "source": [
    "###12. Spelling Correction"
   ]
  },
  {
   "cell_type": "code",
   "execution_count": 96,
   "metadata": {
    "collapsed": false
   },
   "outputs": [
    {
     "data": {
      "text/plain": [
       "'phrase phrase'"
      ]
     },
     "execution_count": 96,
     "metadata": {},
     "output_type": "execute_result"
    }
   ],
   "source": [
    "def correct(phrase):\n",
    "    \"\"\" The correction function takes a string and corrects it. It changes a double whitespace to a single whitespace, and \n",
    "        if there is no space after the period, adds one.\n",
    "    \n",
    "    Parameters:\n",
    "      words- words is a list of strings \n",
    "    \"\"\"\n",
    "    s=0 #assign 0 to the variable s\n",
    "    new='' #assign an empty string to the variable new\n",
    "    while s < len(phrase): #loop for the length of the phrase\n",
    "        k=s+1 #assign s+1 to the varaible k\n",
    "        if phrase[s]==' ': #if the phrase is ' ' at s\n",
    "            if phrase[k]==' ': #if it is also ' ' at k, then there are two spaces in a row\n",
    "                new=new+'' #so define new without any space at s\n",
    "            else: #otherwise, there is just one space\n",
    "                new=new+' ' #so define new with the normal s\n",
    "        elif phrase[s]=='.': #if the phrase is '.' at s\n",
    "            if phrase[k]!=' ': #if there is also no space at k, then there is a period without a space after it\n",
    "                new=new+'. ' #so define new as a period with a space after it\n",
    "        else: #if there is nothing to correct\n",
    "            new=new+phrase[s] #then define new by putting the old character in place\n",
    "        s=s+1 #increase s by 1\n",
    "    return(new) #return the new string\n",
    "\n",
    "# SW: lost points: if the phrase is correct as written, then your function should just return it. for example, this\n",
    "#     should be returned as written, but it is missing the period. this is happening because you do not handle the \n",
    "#     case where phrase[s] == '.' and phrase[k] == ' '. -2\n",
    "#     and, your function throws an error if the string ends with a period because you then try to index the character\n",
    "#     after the period, which is out of bounds. -2\n",
    "\n",
    "correct('phrase. phrase') # should return 'phrase. phrase'"
   ]
  },
  {
   "cell_type": "code",
   "execution_count": 97,
   "metadata": {
    "collapsed": false
   },
   "outputs": [
    {
     "ename": "IndexError",
     "evalue": "string index out of range",
     "output_type": "error",
     "traceback": [
      "\u001b[0;31m---------------------------------------------------------------------------\u001b[0m",
      "\u001b[0;31mIndexError\u001b[0m                                Traceback (most recent call last)",
      "\u001b[0;32m<ipython-input-97-74def92ca4a2>\u001b[0m in \u001b[0;36m<module>\u001b[0;34m()\u001b[0m\n\u001b[0;32m----> 1\u001b[0;31m \u001b[0mcorrect\u001b[0m\u001b[0;34m(\u001b[0m\u001b[0;34m'A correct phrase.'\u001b[0m\u001b[0;34m)\u001b[0m\u001b[0;34m\u001b[0m\u001b[0m\n\u001b[0m",
      "\u001b[0;32m<ipython-input-96-ac67d04a0368>\u001b[0m in \u001b[0;36mcorrect\u001b[0;34m(phrase)\u001b[0m\n\u001b[1;32m     16\u001b[0m                 \u001b[0mnew\u001b[0m\u001b[0;34m=\u001b[0m\u001b[0mnew\u001b[0m\u001b[0;34m+\u001b[0m\u001b[0;34m' '\u001b[0m \u001b[0;31m#so define new with the normal s\u001b[0m\u001b[0;34m\u001b[0m\u001b[0m\n\u001b[1;32m     17\u001b[0m         \u001b[0;32melif\u001b[0m \u001b[0mphrase\u001b[0m\u001b[0;34m[\u001b[0m\u001b[0ms\u001b[0m\u001b[0;34m]\u001b[0m\u001b[0;34m==\u001b[0m\u001b[0;34m'.'\u001b[0m\u001b[0;34m:\u001b[0m \u001b[0;31m#if the phrase is '.' at s\u001b[0m\u001b[0;34m\u001b[0m\u001b[0m\n\u001b[0;32m---> 18\u001b[0;31m             \u001b[0;32mif\u001b[0m \u001b[0mphrase\u001b[0m\u001b[0;34m[\u001b[0m\u001b[0mk\u001b[0m\u001b[0;34m]\u001b[0m\u001b[0;34m!=\u001b[0m\u001b[0;34m' '\u001b[0m\u001b[0;34m:\u001b[0m \u001b[0;31m#if there is also no space at k, then there is a period without a space after it\u001b[0m\u001b[0;34m\u001b[0m\u001b[0m\n\u001b[0m\u001b[1;32m     19\u001b[0m                 \u001b[0mnew\u001b[0m\u001b[0;34m=\u001b[0m\u001b[0mnew\u001b[0m\u001b[0;34m+\u001b[0m\u001b[0;34m'. '\u001b[0m \u001b[0;31m#so define new as a period with a space after it\u001b[0m\u001b[0;34m\u001b[0m\u001b[0m\n\u001b[1;32m     20\u001b[0m         \u001b[0;32melse\u001b[0m\u001b[0;34m:\u001b[0m \u001b[0;31m#if there is nothing to correct\u001b[0m\u001b[0;34m\u001b[0m\u001b[0m\n",
      "\u001b[0;31mIndexError\u001b[0m: string index out of range"
     ]
    }
   ],
   "source": [
    "correct('A correct phrase.') # should return 'A correct phrase.'"
   ]
  },
  {
   "cell_type": "code",
   "execution_count": 89,
   "metadata": {
    "collapsed": false
   },
   "outputs": [
    {
     "data": {
      "text/plain": [
       "'t. h. e. r. e'"
      ]
     },
     "execution_count": 89,
     "metadata": {},
     "output_type": "execute_result"
    }
   ],
   "source": [
    "correct('t.h.e.r.e') "
   ]
  },
  {
   "cell_type": "code",
   "execution_count": 86,
   "metadata": {
    "collapsed": false
   },
   "outputs": [
    {
     "data": {
      "text/plain": [
       "'This is very funny and cool. Indeed!\"'"
      ]
     },
     "execution_count": 86,
     "metadata": {},
     "output_type": "execute_result"
    }
   ],
   "source": [
    "correct('This  is very funny and  cool.Indeed!\"')"
   ]
  },
  {
   "cell_type": "markdown",
   "metadata": {},
   "source": [
    "###13. Verbs"
   ]
  },
  {
   "cell_type": "code",
   "execution_count": 98,
   "metadata": {
    "collapsed": true
   },
   "outputs": [],
   "source": [
    "def make_3sg_form(words): #define function\n",
    "    \"\"\" The make_3sg_form function takes a list of infinitive verbs and returns the 3rd person singluar form of the verbs\n",
    "    \n",
    "    Parameters:\n",
    "      words- words is a list of strings \n",
    "    \"\"\"\n",
    "    list=['o', 'ch', 's', 'sh', 'x', 'z'] #create a list of strings that all have the same action done upon them. \n",
    "    if words.endswith('y'): #change according to rule\n",
    "        words=words.replace('y', 'ies') #to make plural -ies\n",
    "    elif words.endswith(tuple(list)):#tests if the word ends with any of the endings in the list from above\n",
    "        words=words + 'es' #if so it changes to es\n",
    "    else: #otherwise, the standard is just to \n",
    "        words=words+'s' #add s\n",
    "    return(words) #return words\n"
   ]
  },
  {
   "cell_type": "code",
   "execution_count": 99,
   "metadata": {
    "collapsed": false
   },
   "outputs": [
    {
     "data": {
      "text/plain": [
       "'tries'"
      ]
     },
     "execution_count": 99,
     "metadata": {},
     "output_type": "execute_result"
    }
   ],
   "source": [
    "make_3sg_form('try') #test \n"
   ]
  },
  {
   "cell_type": "code",
   "execution_count": 53,
   "metadata": {
    "collapsed": false
   },
   "outputs": [
    {
     "data": {
      "text/plain": [
       "'goes'"
      ]
     },
     "execution_count": 53,
     "metadata": {},
     "output_type": "execute_result"
    }
   ],
   "source": [
    "make_3sg_form('go')\n"
   ]
  },
  {
   "cell_type": "code",
   "execution_count": 54,
   "metadata": {
    "collapsed": false
   },
   "outputs": [
    {
     "data": {
      "text/plain": [
       "'brushes'"
      ]
     },
     "execution_count": 54,
     "metadata": {},
     "output_type": "execute_result"
    }
   ],
   "source": [
    "make_3sg_form('brush')\n"
   ]
  },
  {
   "cell_type": "code",
   "execution_count": 55,
   "metadata": {
    "collapsed": false
   },
   "outputs": [
    {
     "data": {
      "text/plain": [
       "'runs'"
      ]
     },
     "execution_count": 55,
     "metadata": {},
     "output_type": "execute_result"
    }
   ],
   "source": [
    "make_3sg_form('run')\n"
   ]
  },
  {
   "cell_type": "code",
   "execution_count": 100,
   "metadata": {
    "collapsed": false
   },
   "outputs": [
    {
     "data": {
      "text/plain": [
       "'fixes'"
      ]
     },
     "execution_count": 100,
     "metadata": {},
     "output_type": "execute_result"
    }
   ],
   "source": [
    "make_3sg_form('fix')"
   ]
  },
  {
   "cell_type": "markdown",
   "metadata": {},
   "source": [
    "###14. Present Participle"
   ]
  },
  {
   "cell_type": "code",
   "execution_count": 101,
   "metadata": {
    "collapsed": true
   },
   "outputs": [],
   "source": [
    "def make_ing_form(verb): #define function\n",
    "    \"\"\" The make_ing_form function takes a list of infinitive verbs and returns the -ing form\n",
    "    \n",
    "    Parameters:\n",
    "      verb- verb is a list of strings \n",
    "    \"\"\"\n",
    "    if verb.endswith('ie'): #testing the different ways verbs can end\n",
    "        verb=verb.replace('ie', 'ying') #replace ie with y, then add ing\n",
    "    elif verb.endswith('e'): #verbs ending in just e. Had a problem if I put this first because it wouldn't consider any of the verbs as ending in e. Is there any way to stop that?\n",
    "        if verb.endswith('ee'): #BUT have to consider the special cases ending in ee\n",
    "            verb+='ing' # which just add ing\n",
    "        elif verb=='be': #and the very special verb to be\n",
    "            verb+='ing' #which also just adds ing\n",
    "        else: #otherwise\n",
    "            verb=verb.replace('e', 'ing') #replace e with ing\n",
    "    elif verb[-1] not in 'aeiou' and verb[-2] in 'aeiou' and verb[-3] not in 'aeiou': #seeing if it ends in consonant-vowel-consonant. Is there an easier way to do this?\n",
    "        verb=verb+verb[-1]+'ing' #if it does, then add the last letter again and add ing\n",
    "    else: #if it doesn't end in ie, or e, or consonant-vowel-consonant,\n",
    "        verb+='ing' #just add ing\n",
    "    return(verb) #return verb\n"
   ]
  },
  {
   "cell_type": "code",
   "execution_count": 102,
   "metadata": {
    "collapsed": false
   },
   "outputs": [
    {
     "data": {
      "text/plain": [
       "'lying'"
      ]
     },
     "execution_count": 102,
     "metadata": {},
     "output_type": "execute_result"
    }
   ],
   "source": [
    "make_ing_form('lie') #test it out!\n"
   ]
  },
  {
   "cell_type": "code",
   "execution_count": 103,
   "metadata": {
    "collapsed": false
   },
   "outputs": [
    {
     "data": {
      "text/plain": [
       "'seeing'"
      ]
     },
     "execution_count": 103,
     "metadata": {},
     "output_type": "execute_result"
    }
   ],
   "source": [
    "make_ing_form('see')\n"
   ]
  },
  {
   "cell_type": "code",
   "execution_count": 104,
   "metadata": {
    "collapsed": false
   },
   "outputs": [
    {
     "data": {
      "text/plain": [
       "'being'"
      ]
     },
     "execution_count": 104,
     "metadata": {},
     "output_type": "execute_result"
    }
   ],
   "source": [
    "make_ing_form('be')\n"
   ]
  },
  {
   "cell_type": "code",
   "execution_count": 105,
   "metadata": {
    "collapsed": false
   },
   "outputs": [
    {
     "data": {
      "text/plain": [
       "'moving'"
      ]
     },
     "execution_count": 105,
     "metadata": {},
     "output_type": "execute_result"
    }
   ],
   "source": [
    "make_ing_form('move')\n"
   ]
  },
  {
   "cell_type": "code",
   "execution_count": 106,
   "metadata": {
    "collapsed": false
   },
   "outputs": [
    {
     "data": {
      "text/plain": [
       "'hugging'"
      ]
     },
     "execution_count": 106,
     "metadata": {},
     "output_type": "execute_result"
    }
   ],
   "source": [
    "make_ing_form('hug')\n"
   ]
  },
  {
   "cell_type": "code",
   "execution_count": 107,
   "metadata": {
    "collapsed": false
   },
   "outputs": [
    {
     "data": {
      "text/plain": [
       "'bugging'"
      ]
     },
     "execution_count": 107,
     "metadata": {},
     "output_type": "execute_result"
    }
   ],
   "source": [
    "make_ing_form('bug')"
   ]
  },
  {
   "cell_type": "code",
   "execution_count": null,
   "metadata": {
    "collapsed": true
   },
   "outputs": [],
   "source": []
  }
 ],
 "metadata": {
  "kernelspec": {
   "display_name": "Python 3",
   "language": "python",
   "name": "python3"
  },
  "language_info": {
   "codemirror_mode": {
    "name": "ipython",
    "version": 3
   },
   "file_extension": ".py",
   "mimetype": "text/x-python",
   "name": "python",
   "nbconvert_exporter": "python",
   "pygments_lexer": "ipython3",
   "version": "3.4.3"
  }
 },
 "nbformat": 4,
 "nbformat_minor": 0
}
