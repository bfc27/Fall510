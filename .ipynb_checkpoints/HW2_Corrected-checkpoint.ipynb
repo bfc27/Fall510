{
 "cells": [
  {
   "cell_type": "markdown",
   "metadata": {},
   "source": [
    "#HW 2 Python"
   ]
  },
  {
   "cell_type": "markdown",
   "metadata": {},
   "source": [
    "### 1. Fibonacci Numbers"
   ]
  },
  {
   "cell_type": "code",
   "execution_count": 174,
   "metadata": {
    "collapsed": true
   },
   "outputs": [],
   "source": [
    "def fib(n): #FOUND IN NOTES\n",
    "    \"\"\" The Fibonacci function will return out all fibonacci numbers up to a given input n. The Fibonacci numbers can be calculated\n",
    "        recursively with the definition\n",
    "                    F(n)=F(n-1)+F(n-2) where F(0)=0 and F(1)=1 (the numbers in the parentheses are subscripts; F is not a function)\n",
    "        \"\"\"\n",
    "    a, b = 0, 1 #defines the variables a,b as 0,1 to make them the F(0) and F(1) from the definition\n",
    "    fib=[] #assigns an empty list to the variable fib\n",
    "    while a < n: #runs the loop while a, the number, is less than or equal to the original input\n",
    "        fib=fib+[a]\n",
    "        a, b = b, a+b # calculating the new number with the recursive definition\n",
    "    print(fib) #asks to print fib to the screen\n",
    "    return(fib) #function also returns the fibonnaci numbers up to the given cutoff point\n"
   ]
  },
  {
   "cell_type": "code",
   "execution_count": 175,
   "metadata": {
    "collapsed": false
   },
   "outputs": [
    {
     "name": "stdout",
     "output_type": "stream",
     "text": [
      "[0, 1, 1, 2, 3, 5, 8, 13, 21, 34, 55, 89, 144, 233, 377, 610, 987]\n"
     ]
    },
    {
     "data": {
      "text/plain": [
       "[0, 1, 1, 2, 3, 5, 8, 13, 21, 34, 55, 89, 144, 233, 377, 610, 987]"
      ]
     },
     "execution_count": 175,
     "metadata": {},
     "output_type": "execute_result"
    }
   ],
   "source": [
    "fib(1597) #test a few Fibonacci numbers.."
   ]
  },
  {
   "cell_type": "code",
   "execution_count": 176,
   "metadata": {
    "collapsed": false
   },
   "outputs": [
    {
     "name": "stdout",
     "output_type": "stream",
     "text": [
      "[0, 1, 1, 2, 3, 5, 8, 13, 21, 34, 55]\n"
     ]
    },
    {
     "data": {
      "text/plain": [
       "[0, 1, 1, 2, 3, 5, 8, 13, 21, 34, 55]"
      ]
     },
     "execution_count": 176,
     "metadata": {},
     "output_type": "execute_result"
    }
   ],
   "source": [
    "# SW: lost points: your function is not correct. it should print all the numbers in the\n",
    "# sequence that are _less_ than n. so, the following should print through 55, but not 89.\n",
    "fib(89)"
   ]
  },
  {
   "cell_type": "code",
   "execution_count": 177,
   "metadata": {
    "collapsed": false
   },
   "outputs": [
    {
     "data": {
      "text/plain": [
       "function"
      ]
     },
     "execution_count": 177,
     "metadata": {},
     "output_type": "execute_result"
    }
   ],
   "source": [
    "fib.__class__"
   ]
  },
  {
   "cell_type": "markdown",
   "metadata": {},
   "source": [
    "###2. MyMax"
   ]
  },
  {
   "cell_type": "code",
   "execution_count": 178,
   "metadata": {
    "collapsed": true
   },
   "outputs": [],
   "source": [
    "def mymax(a, b):\n",
    "    \"\"\" The mymax function takes in two integers and return the larger\"\"\"\n",
    "    max=a #set mas as the first number\n",
    "    if a<b: #computes whether the first input is smaller than the second\n",
    "        max=b #if it is, then the second input, b, is bigger. We only need to check this because we have already assumed that the first number is bigger. If it is, then there is no change\n",
    "    return(max) #return the mas"
   ]
  },
  {
   "cell_type": "code",
   "execution_count": 179,
   "metadata": {
    "collapsed": false
   },
   "outputs": [
    {
     "data": {
      "text/plain": [
       "20"
      ]
     },
     "execution_count": 179,
     "metadata": {},
     "output_type": "execute_result"
    }
   ],
   "source": [
    "mymax(10, 20) \n"
   ]
  },
  {
   "cell_type": "code",
   "execution_count": 180,
   "metadata": {
    "collapsed": false
   },
   "outputs": [
    {
     "data": {
      "text/plain": [
       "345"
      ]
     },
     "execution_count": 180,
     "metadata": {},
     "output_type": "execute_result"
    }
   ],
   "source": [
    "mymax (345, 345)\n"
   ]
  },
  {
   "cell_type": "code",
   "execution_count": 181,
   "metadata": {
    "collapsed": false
   },
   "outputs": [
    {
     "data": {
      "text/plain": [
       "3"
      ]
     },
     "execution_count": 181,
     "metadata": {},
     "output_type": "execute_result"
    }
   ],
   "source": [
    "\n",
    "# SW: lost points: the function should return a number, not a string. as currently written, \n",
    "# this would be a difficult function to call elsewhere, or even with itself. for example, \n",
    "# the call below will throw an error. even if we allowed it to return a string, it will also\n",
    "# be difficult to predict the return type because you use different strings for different \n",
    "# cases. in any case, function doesn't actually return anything.\n",
    "mymax(mymax(1,2),3)"
   ]
  },
  {
   "cell_type": "markdown",
   "metadata": {},
   "source": [
    "###3. Max of Three"
   ]
  },
  {
   "cell_type": "code",
   "execution_count": 182,
   "metadata": {
    "collapsed": true
   },
   "outputs": [],
   "source": [
    "def max_of_three(a, b, c):\n",
    "    \"\"\" The max_of_three function takes three inputs, tests them against each other, and returns which is largest. If two \n",
    "        have the same value, it will still tell you the largest\"\"\"\n",
    "    max=a\n",
    "    if a<b: #determine whether a<b\n",
    "        if b<c: #if yes, determines if b<c\n",
    "            max=c #then a<b<c so c is largest\n",
    "        else: # if c<b\n",
    "            max=b #a<b and c<b, so b is largest\n",
    "    else: #if b<a \n",
    "        if c<a: #now need to determine relationship between a and c\n",
    "            max=a # b<a and c<a, so a is largest\n",
    "        else: # if a<c\n",
    "            max=c #b<a<c so c is largest\n",
    "    return(max) #return the max\n",
    "\n",
    "# SW: lost points: same comment as above, this should return a number, not a string."
   ]
  },
  {
   "cell_type": "code",
   "execution_count": 184,
   "metadata": {
    "collapsed": false
   },
   "outputs": [
    {
     "data": {
      "text/plain": [
       "20"
      ]
     },
     "execution_count": 184,
     "metadata": {},
     "output_type": "execute_result"
    }
   ],
   "source": [
    "max_of_three(20, 3, 4)"
   ]
  },
  {
   "cell_type": "code",
   "execution_count": 185,
   "metadata": {
    "collapsed": false
   },
   "outputs": [
    {
     "data": {
      "text/plain": [
       "5"
      ]
     },
     "execution_count": 185,
     "metadata": {},
     "output_type": "execute_result"
    }
   ],
   "source": [
    "max_of_three(max_of_three(1,2,5), 2,3)"
   ]
  },
  {
   "cell_type": "markdown",
   "metadata": {},
   "source": [
    "###4. Mylen"
   ]
  },
  {
   "cell_type": "code",
   "execution_count": 186,
   "metadata": {
    "collapsed": true
   },
   "outputs": [],
   "source": [
    "def mylen( str ):\n",
    "    \"\"\"Mylen takes a string as input and returns the length of the string as an output\"\"\"\n",
    "    n=0 #assign 0 to n\n",
    "    for s in str: #goes through each variable in the string\n",
    "        n=n+1 #one is added to the variable for every item in the string\n",
    "    return(n) #return n\n"
   ]
  },
  {
   "cell_type": "code",
   "execution_count": 187,
   "metadata": {
    "collapsed": false
   },
   "outputs": [
    {
     "data": {
      "text/plain": [
       "38"
      ]
     },
     "execution_count": 187,
     "metadata": {},
     "output_type": "execute_result"
    }
   ],
   "source": [
    "mylen('I dont know what you are talking about') #test a few to make sure it works. Counts the spaces as well.\n"
   ]
  },
  {
   "cell_type": "code",
   "execution_count": 191,
   "metadata": {
    "collapsed": false
   },
   "outputs": [
    {
     "data": {
      "text/plain": [
       "24"
      ]
     },
     "execution_count": 191,
     "metadata": {},
     "output_type": "execute_result"
    }
   ],
   "source": [
    "mylen('will this work i wonder?')\n"
   ]
  },
  {
   "cell_type": "code",
   "execution_count": 192,
   "metadata": {
    "collapsed": false
   },
   "outputs": [
    {
     "data": {
      "text/plain": [
       "31"
      ]
     },
     "execution_count": 192,
     "metadata": {},
     "output_type": "execute_result"
    }
   ],
   "source": [
    "mylen('i have 543 @pples and b@nn@n@s!')\n",
    "\n",
    "# SW: lost points: again, this function will be difficult to combine with others"
   ]
  },
  {
   "cell_type": "markdown",
   "metadata": {},
   "source": [
    "###5. Vowel or consonant"
   ]
  },
  {
   "cell_type": "code",
   "execution_count": 193,
   "metadata": {
    "collapsed": false
   },
   "outputs": [],
   "source": [
    "def vowel(letter):\n",
    "    \"\"\"The function vowel takes a letter as an input and returns True or False, if it is a vowel or not.  It does not take into consideration that y is \n",
    "        sometimes a vowel.\"\"\"\n",
    "    return(letter in 'aeiouAEIOU') #tests if the input is in the string 'aeiou' of vowels and returns the result\n"
   ]
  },
  {
   "cell_type": "code",
   "execution_count": 194,
   "metadata": {
    "collapsed": false
   },
   "outputs": [
    {
     "data": {
      "text/plain": [
       "False"
      ]
     },
     "execution_count": 194,
     "metadata": {},
     "output_type": "execute_result"
    }
   ],
   "source": [
    "vowel('t') #test a few"
   ]
  },
  {
   "cell_type": "code",
   "execution_count": 195,
   "metadata": {
    "collapsed": false
   },
   "outputs": [
    {
     "data": {
      "text/plain": [
       "True"
      ]
     },
     "execution_count": 195,
     "metadata": {},
     "output_type": "execute_result"
    }
   ],
   "source": [
    "vowel('a') #important to have the quotation marks. This makes it a string of 1, not a variable."
   ]
  },
  {
   "cell_type": "code",
   "execution_count": 196,
   "metadata": {
    "collapsed": false
   },
   "outputs": [
    {
     "data": {
      "text/plain": [
       "True"
      ]
     },
     "execution_count": 196,
     "metadata": {},
     "output_type": "execute_result"
    }
   ],
   "source": [
    "# SW: lost points: your function will need to deal with mixed case. the below call returns \n",
    "# False, but it should be true.\n",
    "vowel('A')"
   ]
  },
  {
   "cell_type": "markdown",
   "metadata": {},
   "source": [
    "###6. Rövarspråket (Robber's Language)"
   ]
  },
  {
   "cell_type": "code",
   "execution_count": 197,
   "metadata": {
    "collapsed": false
   },
   "outputs": [],
   "source": [
    "def translate( str ):\n",
    "    \"\"\"The function robber will double every consonant and place an 'o' in between. It does this by finding the vowels, excepting\n",
    "        them from this process, and then continuing.\"\"\"\n",
    "    y=\"o\" #assign the letter \"o\" to y\n",
    "    trans=[] #assign an empty list to the varaible tans\n",
    "    late='' #assign an empty string to the variable late\n",
    "    alphabet='abcdefghijklmnopqrstuvwxyzABCDEFGHIJKLMNOPQRSTUVWXYZ' #define the alphabet\n",
    "    for n in str: #loop through every character in the string str\n",
    "        if vowel(n)!=True and n in alphabet: #using the function vowel defined above, if n is not a vowel and n is in the alphabet\n",
    "            trans=trans+[n+y+n] #then add it to trans with the consonant doubled with an \"o\" in the middle\n",
    "        else: #otherwise\n",
    "            trans=trans+[n] #add the vowel or non-alpha character to trans as it is\n",
    "    late=''.join(trans) #join the list trans together to get a string list\n",
    "    return(late) #return the string late\n"
   ]
  },
  {
   "cell_type": "code",
   "execution_count": 198,
   "metadata": {
    "collapsed": false
   },
   "outputs": [
    {
     "data": {
      "text/plain": [
       "'hoheyoy'"
      ]
     },
     "execution_count": 198,
     "metadata": {},
     "output_type": "execute_result"
    }
   ],
   "source": [
    "translate('hey') #\n"
   ]
  },
  {
   "cell_type": "code",
   "execution_count": 199,
   "metadata": {
    "collapsed": false
   },
   "outputs": [
    {
     "data": {
      "text/plain": [
       "'wowilollol evovenon tothohisos wowororkok outot?'"
      ]
     },
     "execution_count": 199,
     "metadata": {},
     "output_type": "execute_result"
    }
   ],
   "source": [
    "translate('will even this work out?')\n"
   ]
  },
  {
   "cell_type": "code",
   "execution_count": 200,
   "metadata": {
    "collapsed": false
   },
   "outputs": [
    {
     "data": {
      "text/plain": [
       "'tothohisos isos fofunon'"
      ]
     },
     "execution_count": 200,
     "metadata": {},
     "output_type": "execute_result"
    }
   ],
   "source": [
    "translate('this is fun')\n",
    "\n",
    "# SW: lost points: this function was supposed to be named 'translate()' (see HW). it is \n",
    "# important to write code to specification, particularly when you are collaborating with \n",
    "# others (including yourself in the future). also, the output is not correct; there should \n",
    "# not be spaces around the additional letter o's."
   ]
  },
  {
   "cell_type": "markdown",
   "metadata": {},
   "source": [
    "###7. Sums and Multiplication"
   ]
  },
  {
   "cell_type": "code",
   "execution_count": 201,
   "metadata": {
    "collapsed": false
   },
   "outputs": [],
   "source": [
    "def sum(list): \n",
    "    \"\"\"The function sums will take a list and returns the sum of it\"\"\"\n",
    "    y=0 #define the variable y that will carry the sum, as 0. This is the additive identity\n",
    "    for n in list: #perform the operation for every number in the list\n",
    "        y=n+y #add each number to the last\n",
    "    return(y) #return the result\n",
    "\n",
    "\n",
    "# SW: lost points: this function should have been named 'sum()', not 'sums()'. and, this \n",
    "# function needs to return a number, not print a string.\n",
    "\n",
    "def multiply(list):\n",
    "    \"\"\"The function multiply will take a list and determine the product of all its values\"\"\"\n",
    "    y=1 #define y as 1, the multiplicative identity. Y will contain the product of the list\n",
    "    for n in list:#perform the operation for every number in the list\n",
    "        y=y*n #multiply each number by the last\n",
    "    return(y) #return the result\n",
    "\n",
    "        \n",
    "# SW: lost points: should return a number, not a string"
   ]
  },
  {
   "cell_type": "code",
   "execution_count": 204,
   "metadata": {
    "collapsed": false
   },
   "outputs": [
    {
     "data": {
      "text/plain": [
       "10"
      ]
     },
     "execution_count": 204,
     "metadata": {},
     "output_type": "execute_result"
    }
   ],
   "source": [
    "sum((1, 2, 3, 4)) #run a few to test"
   ]
  },
  {
   "cell_type": "code",
   "execution_count": 205,
   "metadata": {
    "collapsed": false
   },
   "outputs": [
    {
     "data": {
      "text/plain": [
       "21"
      ]
     },
     "execution_count": 205,
     "metadata": {},
     "output_type": "execute_result"
    }
   ],
   "source": [
    "sum((5,6,2,8))"
   ]
  },
  {
   "cell_type": "code",
   "execution_count": 206,
   "metadata": {
    "collapsed": false
   },
   "outputs": [
    {
     "data": {
      "text/plain": [
       "24"
      ]
     },
     "execution_count": 206,
     "metadata": {},
     "output_type": "execute_result"
    }
   ],
   "source": [
    "multiply((1, 2, 3, 4,)) #run a few to test"
   ]
  },
  {
   "cell_type": "code",
   "execution_count": 207,
   "metadata": {
    "collapsed": false
   },
   "outputs": [
    {
     "data": {
      "text/plain": [
       "70.0"
      ]
     },
     "execution_count": 207,
     "metadata": {},
     "output_type": "execute_result"
    }
   ],
   "source": [
    "multiply((.5, 4, 7, 5))"
   ]
  },
  {
   "cell_type": "markdown",
   "metadata": {},
   "source": [
    "###8. Reverse String"
   ]
  },
  {
   "cell_type": "code",
   "execution_count": 208,
   "metadata": {
    "collapsed": true
   },
   "outputs": [],
   "source": [
    "def reverse( word ):\n",
    "    \"\"\"The function reverse takes a string as an input and returns the reverse string. It does this by defining a new string and\n",
    "        adding the letters from the old string backwards to the new one\"\"\"\n",
    "    drow=\"\" #define a new, empty string. This will be the reverse string\n",
    "    for s in word: #for every variable in s\n",
    "        drow=s+drow #define the reverse string as each letter plus itself. This is radically different from saying that drow=drow+s\n",
    "                #addition of numbers is commutative, but of letters it is not. drow=drow+s would return the orignal word\n",
    "    return(drow) #return the string of the reverse\n"
   ]
  },
  {
   "cell_type": "code",
   "execution_count": 209,
   "metadata": {
    "collapsed": false
   },
   "outputs": [
    {
     "data": {
      "text/plain": [
       "'!64 evah I ,ydal tac yzarc a ma i ,ereht olleh'"
      ]
     },
     "execution_count": 209,
     "metadata": {},
     "output_type": "execute_result"
    }
   ],
   "source": [
    "reverse('hello there, i am a crazy cat lady, I have 46!') #test\n"
   ]
  },
  {
   "cell_type": "code",
   "execution_count": 210,
   "metadata": {
    "collapsed": false
   },
   "outputs": [
    {
     "data": {
      "text/plain": [
       "'drow'"
      ]
     },
     "execution_count": 210,
     "metadata": {},
     "output_type": "execute_result"
    }
   ],
   "source": [
    "reverse('word')\n"
   ]
  },
  {
   "cell_type": "code",
   "execution_count": 211,
   "metadata": {
    "collapsed": false
   },
   "outputs": [
    {
     "data": {
      "text/plain": [
       "'!!gnidarg yppaH'"
      ]
     },
     "execution_count": 211,
     "metadata": {},
     "output_type": "execute_result"
    }
   ],
   "source": [
    "reverse('Happy grading!!')\n",
    "\n",
    "# SW: lost points: here we want to return a string, but the return value is not what the \n",
    "# problem specified; you have added extra characters, and you aren't actually returning \n",
    "# anything."
   ]
  },
  {
   "cell_type": "markdown",
   "metadata": {},
   "source": [
    "###9. Palindrome"
   ]
  },
  {
   "cell_type": "code",
   "execution_count": 212,
   "metadata": {
    "collapsed": true
   },
   "outputs": [],
   "source": [
    "def palindrome(word):\n",
    "    \"\"\"The palindrome function checks if an input is a palindrome. A palindrome is a word that can be read the same forwards and\n",
    "        backwards. For example, some common palindromes are\n",
    "                        mom\n",
    "                        racecar\n",
    "                        a man a plan a canal panama\n",
    "                        radar\n",
    "    \"\"\"\n",
    "    return(word==reverse(word)) #using the function reverse above, test whether the word and the reverse of it are the same, and return the result\n"
   ]
  },
  {
   "cell_type": "code",
   "execution_count": 213,
   "metadata": {
    "collapsed": false
   },
   "outputs": [
    {
     "data": {
      "text/plain": [
       "False"
      ]
     },
     "execution_count": 213,
     "metadata": {},
     "output_type": "execute_result"
    }
   ],
   "source": [
    "    \n",
    "palindrome('muffintop') #try a few\n"
   ]
  },
  {
   "cell_type": "code",
   "execution_count": 214,
   "metadata": {
    "collapsed": false
   },
   "outputs": [
    {
     "data": {
      "text/plain": [
       "True"
      ]
     },
     "execution_count": 214,
     "metadata": {},
     "output_type": "execute_result"
    }
   ],
   "source": [
    "palindrome('radar')\n"
   ]
  },
  {
   "cell_type": "code",
   "execution_count": 215,
   "metadata": {
    "collapsed": false
   },
   "outputs": [
    {
     "data": {
      "text/plain": [
       "True"
      ]
     },
     "execution_count": 215,
     "metadata": {},
     "output_type": "execute_result"
    }
   ],
   "source": [
    "palindrome('racecar')\n",
    "\n",
    "# SW: lost points: the return value here should be Boolean, i.e., True or False"
   ]
  },
  {
   "cell_type": "markdown",
   "metadata": {},
   "source": [
    "###10. Member"
   ]
  },
  {
   "cell_type": "code",
   "execution_count": 216,
   "metadata": {
    "collapsed": false
   },
   "outputs": [],
   "source": [
    "def is_member(x, a): \n",
    "    \"\"\"The function is_member tests to see if a single value is a member of a list of values. It's inputs are the single and \n",
    "        list of values.\"\"\"\n",
    "    for n in a: #for every n in a, runs through the if-else construct and returns to the top\n",
    "        if x==n: #test if the value is equal to the individual value being tested\n",
    "            result='y' #if they are the same, change result to true\n",
    "            break #the break here is important, because it stops the code running onwards. Without it, if we were testing whether\n",
    "                #m was in mama, the result would be false because we are testing m against every individual letter of mama. In\n",
    "                #this case it would return true twice and false twice, but the false would be last and therefore the result would\n",
    "                #only say false. This could be changed by putting the print inside each command for 'if' and 'else,' but then\n",
    "                #you would get a whole list of trues and falses when all you want to know is if the single variable was in the \n",
    "                #string or list as least once.\n",
    "        else: # if x is not equal to n\n",
    "            result='n' #result is false\n",
    "    return(result=='y') #return the result in a boolean"
   ]
  },
  {
   "cell_type": "code",
   "execution_count": 217,
   "metadata": {
    "collapsed": false
   },
   "outputs": [
    {
     "data": {
      "text/plain": [
       "True"
      ]
     },
     "execution_count": 217,
     "metadata": {},
     "output_type": "execute_result"
    }
   ],
   "source": [
    "is_member('m', 'mama') #test the function!\n"
   ]
  },
  {
   "cell_type": "code",
   "execution_count": 218,
   "metadata": {
    "collapsed": false
   },
   "outputs": [
    {
     "data": {
      "text/plain": [
       "True"
      ]
     },
     "execution_count": 218,
     "metadata": {},
     "output_type": "execute_result"
    }
   ],
   "source": [
    "is_member(3, (4,3,5,6))\n"
   ]
  },
  {
   "cell_type": "code",
   "execution_count": 219,
   "metadata": {
    "collapsed": false
   },
   "outputs": [
    {
     "data": {
      "text/plain": [
       "False"
      ]
     },
     "execution_count": 219,
     "metadata": {},
     "output_type": "execute_result"
    }
   ],
   "source": [
    "is_member('s', 'I love programming')\n"
   ]
  },
  {
   "cell_type": "code",
   "execution_count": 220,
   "metadata": {
    "collapsed": false
   },
   "outputs": [
    {
     "data": {
      "text/plain": [
       "False"
      ]
     },
     "execution_count": 220,
     "metadata": {},
     "output_type": "execute_result"
    }
   ],
   "source": [
    "is_member(4, (34, 45, 3))\n",
    "\n",
    "# SW: lost points: fine to use the in operator here. but again, your function does not \n",
    "# return anything."
   ]
  },
  {
   "cell_type": "markdown",
   "metadata": {},
   "source": [
    "###11. Overlapping"
   ]
  },
  {
   "cell_type": "code",
   "execution_count": 221,
   "metadata": {
    "collapsed": true
   },
   "outputs": [],
   "source": [
    "def overlapping(list1, list2):\n",
    "    \"\"\"The overlapping function takes two lists and determines if there are any common elements between them.\"\"\"\n",
    "    for n in list1: #runs through all n's in list1\n",
    "        for m in list2:\n",
    "            if n==m:\n",
    "                result='y' # if they are equal, they have at least one common element\n",
    "                break #for the same reasons as above, it is very important to break the for-loop here\n",
    "            else: #if they are not the same, \n",
    "                result='n' #return is false\n",
    "        if result=='y': #if the result is yes,\n",
    "            break #then break. This is important for the same reasons as above, because it will keep testing through all the characters in each string. By breaking we stop at the first yes and exit the loop \n",
    "    return(result=='y')\n"
   ]
  },
  {
   "cell_type": "code",
   "execution_count": 222,
   "metadata": {
    "collapsed": false
   },
   "outputs": [
    {
     "data": {
      "text/plain": [
       "False"
      ]
     },
     "execution_count": 222,
     "metadata": {},
     "output_type": "execute_result"
    }
   ],
   "source": [
    "                \n",
    "overlapping((1, 2, 6), (3, 4, 5)) #test it out!\n"
   ]
  },
  {
   "cell_type": "code",
   "execution_count": 223,
   "metadata": {
    "collapsed": false
   },
   "outputs": [
    {
     "data": {
      "text/plain": [
       "True"
      ]
     },
     "execution_count": 223,
     "metadata": {},
     "output_type": "execute_result"
    }
   ],
   "source": [
    "overlapping((1,2,3), (2,3,4))"
   ]
  },
  {
   "cell_type": "code",
   "execution_count": 224,
   "metadata": {
    "collapsed": false
   },
   "outputs": [
    {
     "data": {
      "text/plain": [
       "True"
      ]
     },
     "execution_count": 224,
     "metadata": {},
     "output_type": "execute_result"
    }
   ],
   "source": [
    "overlapping((1,2,3), (1,4,5))\n",
    "\n",
    "# SW: lost points: function does not return anything."
   ]
  },
  {
   "cell_type": "markdown",
   "metadata": {},
   "source": [
    "###12. Generate Characters"
   ]
  },
  {
   "cell_type": "code",
   "execution_count": 228,
   "metadata": {
    "collapsed": true
   },
   "outputs": [],
   "source": [
    "def generate_n_chars(n, c):\n",
    "    \"\"\"The function generate_n_chars takes in two inputs, a number and a character, and returns a string of the number of those characters \n",
    "        all in a row.\"\"\"\n",
    "    chars=[] #assign an empty list to the variable chars\n",
    "    while 0<n:#run the next part while the number is greater than 0\n",
    "        chars=chars+[c] #add the letter, c, to chars \n",
    "        n=n-1 #notice that we have already printed one character, so reduce the number left by 1.\n",
    "    chars=''.join(chars) #join the list chars into a string chars   \n",
    "    return(chars) #return chars\n"
   ]
  },
  {
   "cell_type": "code",
   "execution_count": 229,
   "metadata": {
    "collapsed": false
   },
   "outputs": [
    {
     "data": {
      "text/plain": [
       "'xxxxx'"
      ]
     },
     "execution_count": 229,
     "metadata": {},
     "output_type": "execute_result"
    }
   ],
   "source": [
    "generate_n_chars(5, 'x') #some examples\n"
   ]
  },
  {
   "cell_type": "code",
   "execution_count": 230,
   "metadata": {
    "collapsed": false
   },
   "outputs": [
    {
     "data": {
      "text/plain": [
       "'qqqqqqqqqq'"
      ]
     },
     "execution_count": 230,
     "metadata": {},
     "output_type": "execute_result"
    }
   ],
   "source": [
    "generate_n_chars(10, 'q')\n"
   ]
  },
  {
   "cell_type": "code",
   "execution_count": 231,
   "metadata": {
    "collapsed": false
   },
   "outputs": [
    {
     "data": {
      "text/plain": [
       "''"
      ]
     },
     "execution_count": 231,
     "metadata": {},
     "output_type": "execute_result"
    }
   ],
   "source": [
    "generate_n_chars(0, 'o')\n",
    "\n",
    "# SW: lost points: function does not return anything."
   ]
  },
  {
   "cell_type": "code",
   "execution_count": null,
   "metadata": {
    "collapsed": true
   },
   "outputs": [],
   "source": []
  }
 ],
 "metadata": {
  "kernelspec": {
   "display_name": "Python 3",
   "language": "python",
   "name": "python3"
  },
  "language_info": {
   "codemirror_mode": {
    "name": "ipython",
    "version": 3
   },
   "file_extension": ".py",
   "mimetype": "text/x-python",
   "name": "python",
   "nbconvert_exporter": "python",
   "pygments_lexer": "ipython3",
   "version": "3.4.3"
  }
 },
 "nbformat": 4,
 "nbformat_minor": 0
}
