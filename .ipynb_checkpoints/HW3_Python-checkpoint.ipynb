{
 "cells": [
  {
   "cell_type": "markdown",
   "metadata": {},
   "source": [
    "#HW 3 Python"
   ]
  },
  {
   "cell_type": "markdown",
   "metadata": {},
   "source": [
    "###1. Histogram"
   ]
  },
  {
   "cell_type": "code",
   "execution_count": 3,
   "metadata": {
    "collapsed": false
   },
   "outputs": [
    {
     "name": "stdout",
     "output_type": "stream",
     "text": [
      "**\n",
      "***\n",
      "****\n"
     ]
    }
   ],
   "source": [
    "def histogram(integers): #define function\n",
    "    \"\"\" The histogram function takes a list of integers and returns a histogram based on these. \n",
    "    \n",
    "    Parameters:\n",
    "      integers- integers is a list of integers\n",
    "    \"\"\"\n",
    "    for i in integers: #go through the list\n",
    "        while i>0: \n",
    "            print('*', end='') #print one * for the value of the integer\n",
    "            i=i-1 #reduce the value of i, so that while i>0 stops at the value of the integer\n",
    "        print() #go to next line\n",
    "\n",
    "histogram((2, 3, 4)) #practice\n"
   ]
  },
  {
   "cell_type": "code",
   "execution_count": 4,
   "metadata": {
    "collapsed": false
   },
   "outputs": [
    {
     "name": "stdout",
     "output_type": "stream",
     "text": [
      "**\n",
      "***\n",
      "****\n"
     ]
    }
   ],
   "source": [
    "histogram((2, 3, 4)) #practice"
   ]
  },
  {
   "cell_type": "markdown",
   "metadata": {},
   "source": [
    "###2. Max in list"
   ]
  },
  {
   "cell_type": "code",
   "execution_count": 24,
   "metadata": {
    "collapsed": false
   },
   "outputs": [
    {
     "name": "stdout",
     "output_type": "stream",
     "text": [
      "The largest is 9\n",
      "The largest is 11\n"
     ]
    }
   ],
   "source": [
    "def max_in_list(list): #define function\n",
    "    \"\"\" The max_in_list function takes a list of integers and returns which of them has the greatest value. \n",
    "    \n",
    "    Parameters:\n",
    "      list- list is a list of integers\n",
    "    \"\"\"\n",
    "    max=list[1] #define variable max as the first integer in the list\n",
    "    for s in list: #go through all integers in list\n",
    "        if s>max: #determine if s>max\n",
    "            max=s #if it is, then s is the new max\n",
    "    print(\"The largest is\", max) #print the result\n",
    "max_in_list((9, 0, 4, 6, -3)) #test\n",
    "max_in_list((9, 3, 7, 11))"
   ]
  },
  {
   "cell_type": "markdown",
   "metadata": {},
   "source": [
    "###3. Words to numbers"
   ]
  },
  {
   "cell_type": "code",
   "execution_count": 36,
   "metadata": {
    "collapsed": false
   },
   "outputs": [
    {
     "name": "stdout",
     "output_type": "stream",
     "text": [
      "list has length 4\n",
      "orange has length 6\n",
      "apple has length 5\n"
     ]
    }
   ],
   "source": [
    "def words(list):\n",
    "    \"\"\" The words function takes a list of words and returns the length of each string in the list. \n",
    "    \n",
    "    Parameters:\n",
    "      list- list is a list of strings\n",
    "    \"\"\"\n",
    "    for w in list: #goes through the list one item at a time\n",
    "        n=0 #need to set or reset n, the length, after each iteration\n",
    "        for s in w: #goes through each letter of the word\n",
    "            n=n+1 #counts by adding one for each letter\n",
    "        print(w, \"has length\", n) #print \n",
    "words(('list', 'orange', 'apple')) #test!"
   ]
  },
  {
   "cell_type": "markdown",
   "metadata": {},
   "source": [
    "###4. Longest Word"
   ]
  },
  {
   "cell_type": "code",
   "execution_count": 117,
   "metadata": {
    "collapsed": false
   },
   "outputs": [
    {
     "name": "stdout",
     "output_type": "stream",
     "text": [
      "The longest word is supercalifragilisticexpialidocious with length 34\n"
     ]
    }
   ],
   "source": [
    "def find_longest_word(wordlist):\n",
    "    \"\"\" The find_longest_word function takes a list of words and returns which of these has the greatest length. \n",
    "    \n",
    "    Parameters:\n",
    "      wordlist- wordlist is a list of strings\n",
    "    \"\"\"\n",
    "    longest=0\n",
    "    for w in wordlist: #goes through the list one item at a time\n",
    "        n=0 #defines variable n and puts 0 into it\n",
    "        for s in w: #goes through each letter of the word\n",
    "            n=n+1 #counts by adding one for each letter\n",
    "        if n>longest: #determines if n>longest\n",
    "            longest=n #if it is, then n is the new longest\n",
    "            longestword=w #if this is the case, then that word is the new longest word\n",
    "    print(\"The longest word is\", longestword, \"with length\", longest) #print result\n",
    "find_longest_word(('wonderful', 'supercalifragilisticexpialidocious','obnoxious')) #test it out!"
   ]
  },
  {
   "cell_type": "markdown",
   "metadata": {},
   "source": [
    "###5. Filter long words"
   ]
  },
  {
   "cell_type": "code",
   "execution_count": 51,
   "metadata": {
    "collapsed": false
   },
   "outputs": [
    {
     "name": "stdout",
     "output_type": "stream",
     "text": [
      "apples,oranges,pie\n"
     ]
    }
   ],
   "source": [
    "def filter_long_words(words, r): #define function\n",
    "    \"\"\" The filter_long_words function takes a list of words and an integer and returns only the words with length at least of\n",
    "        the integer. \n",
    "    \n",
    "    Parameters:\n",
    "      words- words is a list of strings\n",
    "      r- r is an integer\n",
    "    \"\"\"\n",
    "    longwords='' #define variable longwords and make it empty\n",
    "    for w in words: #go through the list of words\n",
    "        n=0 #define variable n and put 0 in it\n",
    "        for s in w: #goes through letters in the word\n",
    "            n=n+1 #adds one for every letter\n",
    "        if n>=r: #determines if n>= integer from function\n",
    "            if longwords=='': #formatting, so there is not a comma after if there is only one word long enough\n",
    "                longwords=longwords+ w\n",
    "            else:\n",
    "                longwords=longwords+',' +w #but basically, adding all the words that are long enough to new variable longwords\n",
    "    print(longwords) #print result\n",
    "filter_long_words(('apples', 'oranges', 'pi', 'pie'), 3) #test!"
   ]
  },
  {
   "cell_type": "markdown",
   "metadata": {
    "collapsed": true
   },
   "source": [
    "###6. Palindromes"
   ]
  },
  {
   "cell_type": "code",
   "execution_count": 188,
   "metadata": {
    "collapsed": false
   },
   "outputs": [
    {
     "name": "stdout",
     "output_type": "stream",
     "text": [
      "Nope, try again\n",
      "You just entered a palindrome!\n",
      "You just entered a palindrome!\n",
      "You just entered a palindrome!\n",
      "You just entered a palindrome!\n"
     ]
    }
   ],
   "source": [
    "def palindrome(phrase): #define function\n",
    "    \"\"\" The palindrome function takes a string and returns whether it is a palindrome or not.\n",
    "    \n",
    "    Parameters:\n",
    "      phrase- phrase is a string\n",
    "    \"\"\"\n",
    "    reverse=\"\" #defines variable reverse and make it empty\n",
    "    for p in phrase: #goes through characters in phrase\n",
    "        if p.isalpha(): #if character is a letter or a space\n",
    "            if p.isspace(): #if it is a space\n",
    "                reverse=\"\"+reverse #create reverse with no space\n",
    "                phrase=phrase.replace(p, '') #take out the space from orig phrase\n",
    "            elif p.isupper(): #if p uppercase\n",
    "                phrase=phrase.replace(p, p.lower()) #replace with lowercase in orig phrase\n",
    "                p=p.lower() #set p as its lowercase counterpart\n",
    "                reverse=p+reverse #add to reverse in lowercase\n",
    "            else: #otherwise\n",
    "                reverse=p+reverse #just keep making the palindrome, which is done by adding the new term in front of the old phrase \n",
    "        else: #if character is not a letter or space\n",
    "            reverse=\"\"+reverse #keep on trucking with the reverse\n",
    "            phrase=phrase.replace(p, '') #get rid of it!\n",
    "    if phrase==reverse: #if reverse is the same as the orig phrase..../\n",
    "        print(\"You just entered a palindrome!\") #its a palindrome!\n",
    "    else: #otherwise\n",
    "        print(\"Nope, try again\") #its not :(\n",
    "    \n",
    "palindrome(\"Phrase:)\") #testers\n",
    "palindrome(\"Mom\")\n",
    "palindrome(\"A man, a plan, a canal. Panama!\")\n",
    "palindrome(\"Lisa Bonet ate no basil\")\n",
    "palindrome(\"Dammit, I'm mad!\")\n",
    "\n",
    "\n",
    "            "
   ]
  },
  {
   "cell_type": "markdown",
   "metadata": {},
   "source": [
    "###7. Pangram"
   ]
  },
  {
   "cell_type": "code",
   "execution_count": 192,
   "metadata": {
    "collapsed": false
   },
   "outputs": [
    {
     "name": "stdout",
     "output_type": "stream",
     "text": [
      "Congrats, its a pangram\n",
      "This is not a pangram because at least b is missing\n",
      "Congrats, its a pangram\n"
     ]
    }
   ],
   "source": [
    "def pangram(words): #define function \n",
    "    \"\"\" The pangram function takes a string and returns whether uses all 26 letters of the alphabet or not.\n",
    "    \n",
    "    Parameters:\n",
    "      words- words is a string\n",
    "    \"\"\"\n",
    "    alphabet='abcdefghijklmnopqrstuvwxyz' #define the alphabet\n",
    "    c=0 #define a variable c and put 0 in it\n",
    "    for w in words: #go through all characters in the string\n",
    "        if w.isupper: #need to change from uppercase to lowercase, because only defined the alphabet in lowercase. If you define it in both, your string would need to satisfy all 52 letters if it were to be declared a pangram by my function.\n",
    "            words=words.replace(w, w.lower()) #replace uppercase by lowercase letters\n",
    "    for a in alphabet: #go through each letter in alphabet\n",
    "        if a not in words: #if any letter is NOT in the string\n",
    "            c=1 #define c as 1, to differentiate it\n",
    "            break #this isn't absolutely necessary, as we would still get whether it is a pangram or not, but it stops checking as soon as we find out it is not. I just like that better than going through it all.\n",
    "        else: #if a letter is in words, then continue\n",
    "            c=0 #keep it the same\n",
    "    if c==1: #this test has to be outside the for-loop if we just want results for the whole string at once\n",
    "        print('This is not a pangram because at least', a, 'is missing') #prints results and the first missing letter of the alphabet\n",
    "    else: #means that all the letters were in the phrase, so\n",
    "        print('Congrats, its a pangram') #yay!\n",
    "                    \n",
    "pangram('The quick brown fox jumps over the lazy dog.') #test\n",
    "pangram('supercalifragilisticexpialidocious')\n",
    "pangram('Sphinx of black quartz, judge my vow')\n",
    "\n",
    "\n"
   ]
  },
  {
   "cell_type": "markdown",
   "metadata": {},
   "source": [
    "###8. 99 Bottles of Coke"
   ]
  },
  {
   "cell_type": "code",
   "execution_count": 75,
   "metadata": {
    "collapsed": false
   },
   "outputs": [
    {
     "name": "stdout",
     "output_type": "stream",
     "text": [
      "99 bottles of coke on the wall,  99  bottles of coke.Take one down, pass it around,  98  bottles of coke on the wall.\n",
      "98 bottles of coke on the wall,  98  bottles of coke.Take one down, pass it around,  97  bottles of coke on the wall.\n",
      "97 bottles of coke on the wall,  97  bottles of coke.Take one down, pass it around,  96  bottles of coke on the wall.\n",
      "96 bottles of coke on the wall,  96  bottles of coke.Take one down, pass it around,  95  bottles of coke on the wall.\n",
      "95 bottles of coke on the wall,  95  bottles of coke.Take one down, pass it around,  94  bottles of coke on the wall.\n",
      "94 bottles of coke on the wall,  94  bottles of coke.Take one down, pass it around,  93  bottles of coke on the wall.\n",
      "93 bottles of coke on the wall,  93  bottles of coke.Take one down, pass it around,  92  bottles of coke on the wall.\n",
      "92 bottles of coke on the wall,  92  bottles of coke.Take one down, pass it around,  91  bottles of coke on the wall.\n",
      "91 bottles of coke on the wall,  91  bottles of coke.Take one down, pass it around,  90  bottles of coke on the wall.\n",
      "90 bottles of coke on the wall,  90  bottles of coke.Take one down, pass it around,  89  bottles of coke on the wall.\n",
      "89 bottles of coke on the wall,  89  bottles of coke.Take one down, pass it around,  88  bottles of coke on the wall.\n",
      "88 bottles of coke on the wall,  88  bottles of coke.Take one down, pass it around,  87  bottles of coke on the wall.\n",
      "87 bottles of coke on the wall,  87  bottles of coke.Take one down, pass it around,  86  bottles of coke on the wall.\n",
      "86 bottles of coke on the wall,  86  bottles of coke.Take one down, pass it around,  85  bottles of coke on the wall.\n",
      "85 bottles of coke on the wall,  85  bottles of coke.Take one down, pass it around,  84  bottles of coke on the wall.\n",
      "84 bottles of coke on the wall,  84  bottles of coke.Take one down, pass it around,  83  bottles of coke on the wall.\n",
      "83 bottles of coke on the wall,  83  bottles of coke.Take one down, pass it around,  82  bottles of coke on the wall.\n",
      "82 bottles of coke on the wall,  82  bottles of coke.Take one down, pass it around,  81  bottles of coke on the wall.\n",
      "81 bottles of coke on the wall,  81  bottles of coke.Take one down, pass it around,  80  bottles of coke on the wall.\n",
      "80 bottles of coke on the wall,  80  bottles of coke.Take one down, pass it around,  79  bottles of coke on the wall.\n",
      "79 bottles of coke on the wall,  79  bottles of coke.Take one down, pass it around,  78  bottles of coke on the wall.\n",
      "78 bottles of coke on the wall,  78  bottles of coke.Take one down, pass it around,  77  bottles of coke on the wall.\n",
      "77 bottles of coke on the wall,  77  bottles of coke.Take one down, pass it around,  76  bottles of coke on the wall.\n",
      "76 bottles of coke on the wall,  76  bottles of coke.Take one down, pass it around,  75  bottles of coke on the wall.\n",
      "75 bottles of coke on the wall,  75  bottles of coke.Take one down, pass it around,  74  bottles of coke on the wall.\n",
      "74 bottles of coke on the wall,  74  bottles of coke.Take one down, pass it around,  73  bottles of coke on the wall.\n",
      "73 bottles of coke on the wall,  73  bottles of coke.Take one down, pass it around,  72  bottles of coke on the wall.\n",
      "72 bottles of coke on the wall,  72  bottles of coke.Take one down, pass it around,  71  bottles of coke on the wall.\n",
      "71 bottles of coke on the wall,  71  bottles of coke.Take one down, pass it around,  70  bottles of coke on the wall.\n",
      "70 bottles of coke on the wall,  70  bottles of coke.Take one down, pass it around,  69  bottles of coke on the wall.\n",
      "69 bottles of coke on the wall,  69  bottles of coke.Take one down, pass it around,  68  bottles of coke on the wall.\n",
      "68 bottles of coke on the wall,  68  bottles of coke.Take one down, pass it around,  67  bottles of coke on the wall.\n",
      "67 bottles of coke on the wall,  67  bottles of coke.Take one down, pass it around,  66  bottles of coke on the wall.\n",
      "66 bottles of coke on the wall,  66  bottles of coke.Take one down, pass it around,  65  bottles of coke on the wall.\n",
      "65 bottles of coke on the wall,  65  bottles of coke.Take one down, pass it around,  64  bottles of coke on the wall.\n",
      "64 bottles of coke on the wall,  64  bottles of coke.Take one down, pass it around,  63  bottles of coke on the wall.\n",
      "63 bottles of coke on the wall,  63  bottles of coke.Take one down, pass it around,  62  bottles of coke on the wall.\n",
      "62 bottles of coke on the wall,  62  bottles of coke.Take one down, pass it around,  61  bottles of coke on the wall.\n",
      "61 bottles of coke on the wall,  61  bottles of coke.Take one down, pass it around,  60  bottles of coke on the wall.\n",
      "60 bottles of coke on the wall,  60  bottles of coke.Take one down, pass it around,  59  bottles of coke on the wall.\n",
      "59 bottles of coke on the wall,  59  bottles of coke.Take one down, pass it around,  58  bottles of coke on the wall.\n",
      "58 bottles of coke on the wall,  58  bottles of coke.Take one down, pass it around,  57  bottles of coke on the wall.\n",
      "57 bottles of coke on the wall,  57  bottles of coke.Take one down, pass it around,  56  bottles of coke on the wall.\n",
      "56 bottles of coke on the wall,  56  bottles of coke.Take one down, pass it around,  55  bottles of coke on the wall.\n",
      "55 bottles of coke on the wall,  55  bottles of coke.Take one down, pass it around,  54  bottles of coke on the wall.\n",
      "54 bottles of coke on the wall,  54  bottles of coke.Take one down, pass it around,  53  bottles of coke on the wall.\n",
      "53 bottles of coke on the wall,  53  bottles of coke.Take one down, pass it around,  52  bottles of coke on the wall.\n",
      "52 bottles of coke on the wall,  52  bottles of coke.Take one down, pass it around,  51  bottles of coke on the wall.\n",
      "51 bottles of coke on the wall,  51  bottles of coke.Take one down, pass it around,  50  bottles of coke on the wall.\n",
      "50 bottles of coke on the wall,  50  bottles of coke.Take one down, pass it around,  49  bottles of coke on the wall.\n",
      "49 bottles of coke on the wall,  49  bottles of coke.Take one down, pass it around,  48  bottles of coke on the wall.\n",
      "48 bottles of coke on the wall,  48  bottles of coke.Take one down, pass it around,  47  bottles of coke on the wall.\n",
      "47 bottles of coke on the wall,  47  bottles of coke.Take one down, pass it around,  46  bottles of coke on the wall.\n",
      "46 bottles of coke on the wall,  46  bottles of coke.Take one down, pass it around,  45  bottles of coke on the wall.\n",
      "45 bottles of coke on the wall,  45  bottles of coke.Take one down, pass it around,  44  bottles of coke on the wall.\n",
      "44 bottles of coke on the wall,  44  bottles of coke.Take one down, pass it around,  43  bottles of coke on the wall.\n",
      "43 bottles of coke on the wall,  43  bottles of coke.Take one down, pass it around,  42  bottles of coke on the wall.\n",
      "42 bottles of coke on the wall,  42  bottles of coke.Take one down, pass it around,  41  bottles of coke on the wall.\n",
      "41 bottles of coke on the wall,  41  bottles of coke.Take one down, pass it around,  40  bottles of coke on the wall.\n",
      "40 bottles of coke on the wall,  40  bottles of coke.Take one down, pass it around,  39  bottles of coke on the wall.\n",
      "39 bottles of coke on the wall,  39  bottles of coke.Take one down, pass it around,  38  bottles of coke on the wall.\n",
      "38 bottles of coke on the wall,  38  bottles of coke.Take one down, pass it around,  37  bottles of coke on the wall.\n",
      "37 bottles of coke on the wall,  37  bottles of coke.Take one down, pass it around,  36  bottles of coke on the wall.\n",
      "36 bottles of coke on the wall,  36  bottles of coke.Take one down, pass it around,  35  bottles of coke on the wall.\n",
      "35 bottles of coke on the wall,  35  bottles of coke.Take one down, pass it around,  34  bottles of coke on the wall.\n",
      "34 bottles of coke on the wall,  34  bottles of coke.Take one down, pass it around,  33  bottles of coke on the wall.\n",
      "33 bottles of coke on the wall,  33  bottles of coke.Take one down, pass it around,  32  bottles of coke on the wall.\n",
      "32 bottles of coke on the wall,  32  bottles of coke.Take one down, pass it around,  31  bottles of coke on the wall.\n",
      "31 bottles of coke on the wall,  31  bottles of coke.Take one down, pass it around,  30  bottles of coke on the wall.\n",
      "30 bottles of coke on the wall,  30  bottles of coke.Take one down, pass it around,  29  bottles of coke on the wall.\n",
      "29 bottles of coke on the wall,  29  bottles of coke.Take one down, pass it around,  28  bottles of coke on the wall.\n",
      "28 bottles of coke on the wall,  28  bottles of coke.Take one down, pass it around,  27  bottles of coke on the wall.\n",
      "27 bottles of coke on the wall,  27  bottles of coke.Take one down, pass it around,  26  bottles of coke on the wall.\n",
      "26 bottles of coke on the wall,  26  bottles of coke.Take one down, pass it around,  25  bottles of coke on the wall.\n",
      "25 bottles of coke on the wall,  25  bottles of coke.Take one down, pass it around,  24  bottles of coke on the wall.\n",
      "24 bottles of coke on the wall,  24  bottles of coke.Take one down, pass it around,  23  bottles of coke on the wall.\n",
      "23 bottles of coke on the wall,  23  bottles of coke.Take one down, pass it around,  22  bottles of coke on the wall.\n",
      "22 bottles of coke on the wall,  22  bottles of coke.Take one down, pass it around,  21  bottles of coke on the wall.\n",
      "21 bottles of coke on the wall,  21  bottles of coke.Take one down, pass it around,  20  bottles of coke on the wall.\n",
      "20 bottles of coke on the wall,  20  bottles of coke.Take one down, pass it around,  19  bottles of coke on the wall.\n",
      "19 bottles of coke on the wall,  19  bottles of coke.Take one down, pass it around,  18  bottles of coke on the wall.\n",
      "18 bottles of coke on the wall,  18  bottles of coke.Take one down, pass it around,  17  bottles of coke on the wall.\n",
      "17 bottles of coke on the wall,  17  bottles of coke.Take one down, pass it around,  16  bottles of coke on the wall.\n",
      "16 bottles of coke on the wall,  16  bottles of coke.Take one down, pass it around,  15  bottles of coke on the wall.\n",
      "15 bottles of coke on the wall,  15  bottles of coke.Take one down, pass it around,  14  bottles of coke on the wall.\n",
      "14 bottles of coke on the wall,  14  bottles of coke.Take one down, pass it around,  13  bottles of coke on the wall.\n",
      "13 bottles of coke on the wall,  13  bottles of coke.Take one down, pass it around,  12  bottles of coke on the wall.\n",
      "12 bottles of coke on the wall,  12  bottles of coke.Take one down, pass it around,  11  bottles of coke on the wall.\n",
      "11 bottles of coke on the wall,  11  bottles of coke.Take one down, pass it around,  10  bottles of coke on the wall.\n",
      "10 bottles of coke on the wall,  10  bottles of coke.Take one down, pass it around,  9  bottles of coke on the wall.\n",
      "9 bottles of coke on the wall,  9  bottles of coke.Take one down, pass it around,  8  bottles of coke on the wall.\n",
      "8 bottles of coke on the wall,  8  bottles of coke.Take one down, pass it around,  7  bottles of coke on the wall.\n",
      "7 bottles of coke on the wall,  7  bottles of coke.Take one down, pass it around,  6  bottles of coke on the wall.\n",
      "6 bottles of coke on the wall,  6  bottles of coke.Take one down, pass it around,  5  bottles of coke on the wall.\n",
      "5 bottles of coke on the wall,  5  bottles of coke.Take one down, pass it around,  4  bottles of coke on the wall.\n",
      "4 bottles of coke on the wall,  4  bottles of coke.Take one down, pass it around,  3  bottles of coke on the wall.\n",
      "3 bottles of coke on the wall,  3  bottles of coke.Take one down, pass it around,  2  bottles of coke on the wall.\n",
      "2 bottles of coke on the wall,  2  bottles of coke.Take one down, pass it around,  1  bottles of coke on the wall.\n",
      "1 bottles of coke on the wall,  1  bottles of coke.Take one down, pass it around,  0  bottles of coke on the wall.\n",
      "Game over!\n",
      "17 bottles of coke on the wall,  17  bottles of coke.Take one down, pass it around,  16  bottles of coke on the wall.\n",
      "16 bottles of coke on the wall,  16  bottles of coke.Take one down, pass it around,  15  bottles of coke on the wall.\n",
      "15 bottles of coke on the wall,  15  bottles of coke.Take one down, pass it around,  14  bottles of coke on the wall.\n",
      "14 bottles of coke on the wall,  14  bottles of coke.Take one down, pass it around,  13  bottles of coke on the wall.\n",
      "13 bottles of coke on the wall,  13  bottles of coke.Take one down, pass it around,  12  bottles of coke on the wall.\n",
      "12 bottles of coke on the wall,  12  bottles of coke.Take one down, pass it around,  11  bottles of coke on the wall.\n",
      "11 bottles of coke on the wall,  11  bottles of coke.Take one down, pass it around,  10  bottles of coke on the wall.\n",
      "10 bottles of coke on the wall,  10  bottles of coke.Take one down, pass it around,  9  bottles of coke on the wall.\n",
      "9 bottles of coke on the wall,  9  bottles of coke.Take one down, pass it around,  8  bottles of coke on the wall.\n",
      "8 bottles of coke on the wall,  8  bottles of coke.Take one down, pass it around,  7  bottles of coke on the wall.\n",
      "7 bottles of coke on the wall,  7  bottles of coke.Take one down, pass it around,  6  bottles of coke on the wall.\n",
      "6 bottles of coke on the wall,  6  bottles of coke.Take one down, pass it around,  5  bottles of coke on the wall.\n",
      "5 bottles of coke on the wall,  5  bottles of coke.Take one down, pass it around,  4  bottles of coke on the wall.\n",
      "4 bottles of coke on the wall,  4  bottles of coke.Take one down, pass it around,  3  bottles of coke on the wall.\n",
      "3 bottles of coke on the wall,  3  bottles of coke.Take one down, pass it around,  2  bottles of coke on the wall.\n",
      "2 bottles of coke on the wall,  2  bottles of coke.Take one down, pass it around,  1  bottles of coke on the wall.\n",
      "1 bottles of coke on the wall,  1  bottles of coke.Take one down, pass it around,  0  bottles of coke on the wall.\n",
      "Game over!\n"
     ]
    }
   ],
   "source": [
    "def game(n=99): #define function\n",
    "    \"\"\" The game returns the game of 99 bottles of coke on the wall, starting with the input integers\n",
    "    \n",
    "    Parameters:\n",
    "      n-n is an integer. It defaults at 99, returning the entire game. It can be set to any integer, and it will return the\n",
    "          game starting at that integer\n",
    "    \"\"\"\n",
    "    while n>0: #play game while n>0\n",
    "        print(n, \"bottles of coke on the wall, \", n, \" bottles of coke.\"\n",
    "             \"Take one down, pass it around, \", n-1, \" bottles of coke on the wall.\") #print the words to the song\n",
    "        n=n-1 #reduce the number by 1 each time, so we don't just keep repeating the same verses over and over\n",
    "    print(\"Game over!\") #end game\n",
    "game() #plays the full game\n",
    "game(17) #plays the game starting with 17 bottles\n",
    "        "
   ]
  },
  {
   "cell_type": "markdown",
   "metadata": {},
   "source": [
    "###9. Translate"
   ]
  },
  {
   "cell_type": "code",
   "execution_count": 203,
   "metadata": {
    "collapsed": false
   },
   "outputs": [
    {
     "name": "stdout",
     "output_type": "stream",
     "text": [
      "god jul och gott nytt år \n",
      "ERROR! Please only enter a Christmas message\n",
      "\n"
     ]
    }
   ],
   "source": [
    "def translate(words): #define function\n",
    "    \"\"\" The translate function takes a Christmas phrase in english and returns it in Swedish.\n",
    "    \n",
    "    Parameters:\n",
    "      words- words is a string of only merry, christmas, and, happy, new, and year\n",
    "    \"\"\"\n",
    "    dict = {\"merry\":\"god\", #define the small dictionary of english to swedish words from assignment\n",
    "                  \"christmas\":\"jul\",\n",
    "                  \"and\":\"och\",\n",
    "                  \"happy\":\"gott\",\n",
    "                  \"new\":\"nytt\",\n",
    "                  \"year\":\"år\"}\n",
    "    wordList = words.split() #converts the string of the input to a list, so we can consider one word at a time. \n",
    "    for p in wordList: #consider one string in the list at a time \n",
    "        if p not in dict: #if p is not in the dictionary, we have someone trying to write something other than a proper Christmas greeting. Clearly we must stop them as soon as we can!\n",
    "            print('ERROR! Please only enter a Christmas message') #so print error for them\n",
    "            break #we don't need to change the rest of the words if there is an error\n",
    "        else: #but if it is in the dictionary\n",
    "            print(dict[p], '', end='') #call the translation, add spaces between the words, and make the printout vertical\n",
    "    print() #go to the next line\n",
    "    \n",
    "translate(\"merry christmas and happy new year\") #test\n",
    "translate(\"hello, how are you\")\n"
   ]
  },
  {
   "cell_type": "markdown",
   "metadata": {
    "collapsed": false
   },
   "source": [
    "###10. Character Frequency\n"
   ]
  },
  {
   "cell_type": "code",
   "execution_count": 196,
   "metadata": {
    "collapsed": false
   },
   "outputs": [
    {
     "name": "stdout",
     "output_type": "stream",
     "text": [
      "abrcd\n",
      "There are 5 occurences of a\n",
      "There are 2 occurences of b\n",
      "There are 2 occurences of r\n",
      "There are 1 occurences of c\n",
      "There are 1 occurences of d\n",
      "abcd\n",
      "There are 7 occurences of a\n",
      "There are 14 occurences of b\n",
      "There are 3 occurences of c\n",
      "There are 3 occurences of d\n",
      "Are youhavingft?\n",
      "There are 1 occurences of A\n",
      "There are 1 occurences of r\n",
      "There are 2 occurences of e\n",
      "There are 4 occurences of  \n",
      "There are 2 occurences of y\n",
      "There are 1 occurences of o\n",
      "There are 2 occurences of u\n",
      "There are 1 occurences of h\n",
      "There are 1 occurences of a\n",
      "There are 1 occurences of v\n",
      "There are 1 occurences of i\n",
      "There are 2 occurences of n\n",
      "There are 1 occurences of g\n",
      "There are 1 occurences of f\n",
      "There are 1 occurences of t\n",
      "There are 1 occurences of ?\n"
     ]
    }
   ],
   "source": [
    "def char_freq(string): #define function\n",
    "    \"\"\" The char_freq function takes a string a returns the frequency of the letters in that string\n",
    "    \n",
    "    Parameters:\n",
    "      string- string is a string of characters\n",
    "    \"\"\"\n",
    "    charlist=\"\" #define variable charlist for the list of characters in the string\n",
    "    n=0 #define variable n and make it 0\n",
    "    for s in string: #go through every character in string\n",
    "        if s not in charlist: #if it is not yet in the charlist\n",
    "            charlist += s #add it!\n",
    "    print(charlist) #print charlist, just to be able to see it\n",
    "    for char in charlist: #go through each character in charlist\n",
    "        n=0 #need to reset n=0 for each character\n",
    "        for s in string: #go through every variable in string\n",
    "            if char==s: #testing whether the char being tested is s, for every s in string\n",
    "                n=n+1 #if it is, add one to the occurences of char\n",
    "        print('There are', n, 'occurences of', char) #print result\n",
    "char_freq('abracadabra') #test\n",
    "char_freq('abbabcbdbabdbdbabababcbcbab')\n",
    "char_freq('Are you having fun yet?')"
   ]
  },
  {
   "cell_type": "markdown",
   "metadata": {},
   "source": [
    "###11. ROT-13"
   ]
  },
  {
   "cell_type": "code",
   "execution_count": 5,
   "metadata": {
    "collapsed": false
   },
   "outputs": [
    {
     "name": "stdout",
     "output_type": "stream",
     "text": [
      "Caesar cipher? I much prefer Caesar salad!"
     ]
    }
   ],
   "source": [
    "def ROT13(phrase): #define function\n",
    "    \"\"\" The ROT13 function takes a string and returns its Ceasar cipher. The Ceaser cipher shifts each letter by 13. \n",
    "        For example, a beca\n",
    "    \n",
    "    Parameters:\n",
    "      phrase- phrase is a string \n",
    "    \"\"\"\n",
    "    dict={'a':'n','b':'o','c':'p','d':'q','e':'r','f':'s','g':'t','h':'u',\n",
    "    'i':'v','j':'w','k':'x','l':'y','m':'z','n':'a','o':'b','p':'c',\n",
    "    'q':'d','r':'e','s':'f','t':'g','u':'h','v':'i','w':'j','x':'k',\n",
    "    'y':'l','z':'m','A':'N','B':'O','C':'P','D':'Q','E':'R','F':'S',\n",
    "    'G':'T','H':'U','I':'V','J':'W','K':'X','L':'Y','M':'Z','N':'A',\n",
    "    'O':'B','P':'C','Q':'D','R':'E','S':'F','T':'G','U':'H','V':'I',\n",
    "    'W':'J','X':'K','Y':'L','Z':'M'} #add dictionary as in assignment\n",
    "    for p in phrase: #consider each character in phrase. This is much simpler than the swedish conversion, becuase we did not need to print an error if there is not translation.\n",
    "        if p not in dict: #if the character is not in dict, or is not a letter\n",
    "            print(p, end='') #simply print it!\n",
    "        else: #if it is\n",
    "            print(dict[p], end='') #then print its \"translation\" or the cipher shift\n",
    "\n",
    "ROT13('Pnrfne pvcure? V zhpu cersre Pnrfne fnynq!') #Me too!!"
   ]
  },
  {
   "cell_type": "markdown",
   "metadata": {},
   "source": [
    "###12. Spelling Correction"
   ]
  },
  {
   "cell_type": "code",
   "execution_count": null,
   "metadata": {
    "collapsed": false
   },
   "outputs": [],
   "source": [
    "def correction(phrase):\n",
    "    \"\"\" The correction function takes a string and corrects it. It changes a double whitespace to a single whitespace, and \n",
    "        if there is no space after the period, adds one.\n",
    "    \n",
    "    Parameters:\n",
    "      words- words is a list of strings \n",
    "    \"\"\"\n",
    "    while '  ' in phrase: #taking all thr double whitespaces in phrase\n",
    "        phrase=phrase.replace('  ', ' ') #replacing them with single whitespaces\n",
    "    while '.' in phrase: #taking all the periods in phraase\n",
    "        if '. ' not in phrase: #if there is no space after it\n",
    "            phrase=phrase.replace('.', '. ') #it adds a space\n",
    "    print(phrase) #print results\n",
    "    \n",
    "correction('h  e  l  l  o') #there is something wrong with only this one, making it so I can't run the code, see if it is right, or print the results. This is the last one I did, and it was working for the others. Could I have changed something without realizing it?\n",
    "correction('t.h.e.r.e')     \n",
    "#Because I can't see if it will work, I will say that I think the replacement of two spaces with one space will work, but I'm less confident about placing a space after the period only if it doesn't alreay have a space"
   ]
  },
  {
   "cell_type": "markdown",
   "metadata": {},
   "source": [
    "###13. Verbs"
   ]
  },
  {
   "cell_type": "code",
   "execution_count": 40,
   "metadata": {
    "collapsed": false
   },
   "outputs": [
    {
     "name": "stdout",
     "output_type": "stream",
     "text": [
      "tries\n",
      "goes\n",
      "brushes\n",
      "runs\n",
      "fixes\n"
     ]
    }
   ],
   "source": [
    "def make_3sg_form(words): #define function\n",
    "    \"\"\" The make_3sg_form function takes a list of infinitive verbs and returns the 3rd person singluar form of the verbs\n",
    "    \n",
    "    Parameters:\n",
    "      words- words is a list of strings \n",
    "    \"\"\"\n",
    "    list=['o', 'ch', 's', 'sh', 'x', 'z'] #create a list of strings that all have the same action done upon them. Sorry can't speak properly\n",
    "    if words.endswith('y'): #change according to rule\n",
    "        words=words.replace('y', 'ies') #to make plural -ies\n",
    "    elif words.endswith(tuple(list)):#tests if the word ends with any of the endings in the list from above\n",
    "        words=words + 'es' #if so it changes to es\n",
    "    else: #otherwise, the standard is just to \n",
    "        words=words+'s' #add s\n",
    "    print(words) #print results\n",
    "make_3sg_form('try') #test \n",
    "make_3sg_form('go')\n",
    "make_3sg_form('brush')\n",
    "make_3sg_form('run')\n",
    "make_3sg_form('fix')"
   ]
  },
  {
   "cell_type": "markdown",
   "metadata": {},
   "source": [
    "###14. Present Participle"
   ]
  },
  {
   "cell_type": "code",
   "execution_count": 216,
   "metadata": {
    "collapsed": false
   },
   "outputs": [
    {
     "name": "stdout",
     "output_type": "stream",
     "text": [
      "lying\n",
      "seeing\n",
      "being\n",
      "moving\n",
      "hugging\n",
      "bugging\n"
     ]
    }
   ],
   "source": [
    "def make_ing_form(verb): #define function\n",
    "    \"\"\" The make_ing_form function takes a list of infinitive verbs and returns the -ing form\n",
    "    \n",
    "    Parameters:\n",
    "      verb- verb is a list of strings \n",
    "    \"\"\"\n",
    "    if verb.endswith('ie'): #testing the different ways verbs can end\n",
    "        verb=verb.replace('ie', 'ying') #replace ie with y, then add ing\n",
    "    elif verb.endswith('e'): #verbs ending in just e. Had a problem if I put this first because it wouldn't consider any of the verbs as ending in e. Is there any way to stop that?\n",
    "        if verb.endswith('ee'): #BUT have to consider the special cases ending in ee\n",
    "            verb+='ing' # which just add ing\n",
    "        elif verb=='be': #and the very special verb to be\n",
    "            verb+='ing' #which also just adds ing\n",
    "        else: #otherwise\n",
    "            verb=verb.replace('e', 'ing') #replace e with ing\n",
    "    elif verb[-1] not in 'aeiou' and verb[-2] in 'aeiou' and verb[-3] not in 'aeiou': #seeing if it ends in consonant-vowel-consonant. Is there an easier way to do this?\n",
    "        verb=verb+verb[-1]+'ing' #if it does, then add the last letter again and add ing\n",
    "    else: #if it doesn't end in ie, or e, or consonant-vowel-consonant,\n",
    "        verb+='ing' #just add ing\n",
    "    print(verb) #print results\n",
    "make_ing_form('lie') #test it out!\n",
    "make_ing_form('see')\n",
    "make_ing_form('be')\n",
    "make_ing_form('move')\n",
    "make_ing_form('hug')\n",
    "make_ing_form('bug')\n",
    "    \n",
    "    "
   ]
  },
  {
   "cell_type": "code",
   "execution_count": null,
   "metadata": {
    "collapsed": true
   },
   "outputs": [],
   "source": []
  }
 ],
 "metadata": {
  "kernelspec": {
   "display_name": "Python 3",
   "language": "python",
   "name": "python3"
  },
  "language_info": {
   "codemirror_mode": {
    "name": "ipython",
    "version": 3
   },
   "file_extension": ".py",
   "mimetype": "text/x-python",
   "name": "python",
   "nbconvert_exporter": "python",
   "pygments_lexer": "ipython3",
   "version": "3.4.3"
  }
 },
 "nbformat": 4,
 "nbformat_minor": 0
}
