{
 "cells": [
  {
   "cell_type": "code",
   "execution_count": 23,
   "metadata": {
    "collapsed": false
   },
   "outputs": [],
   "source": [
    "def correct(phrase):\n",
    "    \"\"\" The correction function takes a string and corrects it. It changes a double whitespace to a single whitespace, and \n",
    "        if there is no space after the period, adds one.\n",
    "    \n",
    "    Parameters:\n",
    "      words- words is a list of strings \n",
    "    \"\"\"\n",
    "    s=0\n",
    "    new=''\n",
    "    while s < len(phrase):\n",
    "        k=s+1\n",
    "        if phrase[s]==' ':\n",
    "            if phrase[k]==' ':\n",
    "                new=new+''\n",
    "            else:\n",
    "                new=new+' '\n",
    "        elif phrase[s]=='.':\n",
    "            if phrase[k]!=' ':\n",
    "                new=new+''\n",
    "        else:\n",
    "            new=new+phrase[s]\n",
    "        s=s+1\n",
    "    return(new)"
   ]
  },
  {
   "cell_type": "code",
   "execution_count": 24,
   "metadata": {
    "collapsed": false
   },
   "outputs": [
    {
     "data": {
      "text/plain": [
       "'there'"
      ]
     },
     "execution_count": 24,
     "metadata": {},
     "output_type": "execute_result"
    }
   ],
   "source": [
    "correct('t.h.e.r.e') "
   ]
  },
  {
   "cell_type": "code",
   "execution_count": 22,
   "metadata": {
    "collapsed": false
   },
   "outputs": [
    {
     "data": {
      "text/plain": [
       "5"
      ]
     },
     "execution_count": 22,
     "metadata": {},
     "output_type": "execute_result"
    }
   ],
   "source": [
    "len(('hello'))"
   ]
  }
 ],
 "metadata": {
  "kernelspec": {
   "display_name": "Python 3",
   "language": "python",
   "name": "python3"
  },
  "language_info": {
   "codemirror_mode": {
    "name": "ipython",
    "version": 3
   },
   "file_extension": ".py",
   "mimetype": "text/x-python",
   "name": "python",
   "nbconvert_exporter": "python",
   "pygments_lexer": "ipython3",
   "version": "3.4.3"
  }
 },
 "nbformat": 4,
 "nbformat_minor": 0
}
