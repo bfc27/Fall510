{
 "cells": [
  {
   "cell_type": "markdown",
   "metadata": {},
   "source": [
    "#Homework 2"
   ]
  },
  {
   "cell_type": "markdown",
   "metadata": {},
   "source": [
    "### 1. Fibonacci Numbers"
   ]
  },
  {
   "cell_type": "code",
   "execution_count": 1,
   "metadata": {
    "collapsed": false
   },
   "outputs": [
    {
     "name": "stdout",
     "output_type": "stream",
     "text": [
      "0 1 1 2 3 5 8 13 21 34 55 89 144 233 377 610 987 1597 \n",
      "0 1 1 2 3 5 8 13 21 34 55 89 144 233 377 610 987 \n",
      "0 1 1 2 \n"
     ]
    }
   ],
   "source": [
    "def fib(n): #FOUND IN NOTES\n",
    "    \"\"\" The Fibonacci function will print out all fibonacci numbers up to a given input n. The Fibonacci numbers can be calculated\n",
    "        recursively with the definition\n",
    "                    F(n)=F(n-1)+F(n-2) where F(0)=0 and F(1)=1 (the numbers in the parentheses are subscripts; F is not a function)\n",
    "        \"\"\"\n",
    "    a, b = 0, 1 #defines the variables a,b as 0,1 to make them the F(0) and F(1) from the definition\n",
    "    while a <= n: #runs the loop while a, the number, is less than or equal to the original input\n",
    "        print(a, end=' ') #prints the number horizontally\n",
    "        a, b = b, a+b # calculating the new number with the recursive definition\n",
    "    print() #start a new line, so if you have multiple functions in a row they will be arranged vertically, not horizontally\n",
    "fib(1597) #test a few Fibonacci numbers..\n",
    "fib(1000)\n",
    "fib(2)"
   ]
  },
  {
   "cell_type": "markdown",
   "metadata": {},
   "source": [
    "###2. MyMax"
   ]
  },
  {
   "cell_type": "code",
   "execution_count": 2,
   "metadata": {
    "collapsed": false
   },
   "outputs": [
    {
     "name": "stdout",
     "output_type": "stream",
     "text": [
      "20 is the larger number\n",
      "23 is the larger number\n",
      "345 and 345 are the same number\n"
     ]
    }
   ],
   "source": [
    "def mymax(a, b):\n",
    "    \"\"\" The mymax function takes in two integers and prints out the larger\"\"\"\n",
    "    if a<b: #computes whether the first input is smaller than the second\n",
    "        print(b, \"is the larger number\") #if it is, then the second input, b, is bigger\n",
    "    elif b<a: #if b is less than a...\n",
    "        print(a, \"is the larger number\") #the first input is larger\n",
    "    else: #but if a is not smaller and b is not smaller\n",
    "        print(a, \"and\", b, \"are the same number\") #they must have the same value\n",
    "mymax(10, 20) #testing all three possibilities\n",
    "mymax(23, 2)\n",
    "mymax (345, 345)\n",
    "\n"
   ]
  },
  {
   "cell_type": "markdown",
   "metadata": {},
   "source": [
    "###3. Max of Three"
   ]
  },
  {
   "cell_type": "code",
   "execution_count": 3,
   "metadata": {
    "collapsed": false
   },
   "outputs": [
    {
     "name": "stdout",
     "output_type": "stream",
     "text": [
      "20 is for sure the biggest.\n"
     ]
    }
   ],
   "source": [
    "def max_of_three(a, b, c):\n",
    "    \"\"\" The max_of_three function takes three inputs, tests them against each other, and determines which is largest. If two \n",
    "        have the same value, it will still tell you the largest\"\"\"\n",
    "    if a<b: #determine whether a<b\n",
    "        if b<c: #if yes, determines if b<c\n",
    "            print(c, \"is the largest.\") #then a<b<c so c is largest\n",
    "        else: # if c<b\n",
    "            print(b, \"is the largest.\") #a<b and c<b, so b is largest\n",
    "    else: #if b<a \n",
    "        if c<a: #now need to determine relationship between a and c\n",
    "            print(a, \"is for sure the biggest.\") # b<a and c<a, so a is largest\n",
    "        else: # if a<c\n",
    "            print(c, \"happens to be the biggest\") #b<a<c so c is largest\n",
    "max_of_three(20, 3, 4)"
   ]
  },
  {
   "cell_type": "markdown",
   "metadata": {},
   "source": [
    "###4. Mylen"
   ]
  },
  {
   "cell_type": "code",
   "execution_count": 4,
   "metadata": {
    "collapsed": false
   },
   "outputs": [
    {
     "name": "stdout",
     "output_type": "stream",
     "text": [
      "Your string has length of \n",
      "38\n",
      "Your string has length of \n",
      "24\n",
      "Your string has length of \n",
      "31\n"
     ]
    }
   ],
   "source": [
    "def mylen( str ):\n",
    "    \"\"\"Mylen counts the length of a string\"\"\"\n",
    "    n=0 #define n, which will count the length, as 0 to start\n",
    "    for s in str: #goes through each variable in the string\n",
    "        n=n+1 #one is added to the variable for every item in the string\n",
    "    print('Your string has length of '), n #putting the variable outside of the parentheses of print makes it print on a new line\n",
    "                                        #if we put it inside, the line would read horizontally\n",
    "    print(n) #prints the result\n",
    "mylen('I dont know what you are talking about') #test a few to make sure it works. Counts the spaces as well.\n",
    "mylen('will this work i wonder?')\n",
    "mylen('i have 543 @pples and b@nn@n@s!')"
   ]
  },
  {
   "cell_type": "markdown",
   "metadata": {},
   "source": [
    "###5. Vowel or consonant"
   ]
  },
  {
   "cell_type": "code",
   "execution_count": 5,
   "metadata": {
    "collapsed": false
   },
   "outputs": [
    {
     "name": "stdout",
     "output_type": "stream",
     "text": [
      "False\n",
      "True\n",
      "False\n"
     ]
    }
   ],
   "source": [
    "def vowel(letter):\n",
    "    \"\"\"The function vowel can tell whether a letter is a vowel or consonant. It does not take into consideration that y is \n",
    "        sometimes a vowel. If the input is a vowel, it returns True. If it is a consonant, it returns False.\"\"\"\n",
    "    if letter in 'aeiou': #tests if the input is in the string 'aeiou' of vowels\n",
    "        print(True) # if it is, then it is one of these vowels\n",
    "    else: #if it is not in the string\n",
    "        print(False) #it is not a vowel\n",
    "vowel('t') #test a few\n",
    "vowel('a') #important to have the quotation marks. This makes it a string of 1, not a variable.\n",
    "vowel('y')"
   ]
  },
  {
   "cell_type": "markdown",
   "metadata": {},
   "source": [
    "###6. Rövarspråket (Robber's Language)"
   ]
  },
  {
   "cell_type": "code",
   "execution_count": 6,
   "metadata": {
    "collapsed": false
   },
   "outputs": [
    {
     "name": "stdout",
     "output_type": "stream",
     "text": [
      "w o wh o hat o t  o  a  o  l o lif o fe\n",
      "w o wil o ll o l  o  ev o ven o n  o  t o th o his o s  o  w o wor o rk o k  o  out o t? o ?\n",
      "t o th o his o s  o  is o s  o  f o fun o n\n"
     ]
    }
   ],
   "source": [
    "#MINI PROBLEM- SHOULD SPECIAL CHARACTERS BE INCLUDED IN THE DOUBLING? I THINK NOT! BUT THEY ARE NOW\n",
    "def robber( str ):\n",
    "    \"\"\"The function robber will double every consonant and place an 'o' in between. It does this by finding the vowels, excepting\n",
    "        them from this process, and then continuing.\"\"\"\n",
    "    y=\"o\"\n",
    "    for n in str:\n",
    "        if n in 'aeiou':\n",
    "            print(n,end='') \n",
    "        else:\n",
    "            print(n,y,n,end='') \n",
    "    print()\n",
    "robber('what a life') #\n",
    "robber('will even this work out?')\n",
    "robber('this is fun')"
   ]
  },
  {
   "cell_type": "markdown",
   "metadata": {},
   "source": [
    "###7. Sums and Multiplication"
   ]
  },
  {
   "cell_type": "code",
   "execution_count": 7,
   "metadata": {
    "collapsed": false
   },
   "outputs": [
    {
     "name": "stdout",
     "output_type": "stream",
     "text": [
      "The sum is 10\n",
      "The sum is 21\n",
      "The product is 24\n",
      "The product is 70.0\n"
     ]
    }
   ],
   "source": [
    "def sums(list): \n",
    "    \"\"\"The function sums will take a list and determine the sum of it\"\"\"\n",
    "    y=0 #define the variable y that will carry the sum, as 0. This is the additive identity\n",
    "    for n in list: #perform the operation for every number in the list\n",
    "        y=n+y #add each number to the last\n",
    "    print(\"The sum is\", y) #print the sum\n",
    "sums((1, 2, 3, 4)) #run a few to test\n",
    "sums((5,6,2,8))\n",
    "\n",
    "def multiply(list):\n",
    "    \"\"\"The function multiply will take a list and determine the product of all its values\"\"\"\n",
    "    y=1 #define y as 1, the multiplicative identity. Y will contain the product of the list\n",
    "    for n in list:#perform the operation for every number in the list\n",
    "        y=y*n #multiply each number by the last\n",
    "    print(\"The product is\", y) #print the product\n",
    "multiply((1, 2, 3, 4,)) #run a few to test\n",
    "multiply((.5, 4, 7, 5))\n",
    "        \n"
   ]
  },
  {
   "cell_type": "markdown",
   "metadata": {},
   "source": [
    "###8. Reverse String"
   ]
  },
  {
   "cell_type": "code",
   "execution_count": 8,
   "metadata": {
    "collapsed": false
   },
   "outputs": [
    {
     "name": "stdout",
     "output_type": "stream",
     "text": [
      "Your phrase is: hello there, i am a crazy cat lady, I have 46!\n",
      "The reverse is: !64 evah I ,ydal tac yzarc a ma i ,ereht olleh\n",
      "Your phrase is: word\n",
      "The reverse is: drow\n",
      "Your phrase is: Happy grading!!\n",
      "The reverse is: !!gnidarg yppaH\n"
     ]
    }
   ],
   "source": [
    "def reverse( word ):\n",
    "    \"\"\"The function reverse takes a string as an input and returns the reverse string. It does this by defining a new string and\n",
    "        adding the letters from the old string backwards to the new one\"\"\"\n",
    "    print(\"Your phrase is:\", word) #print the original word or phrase\n",
    "    drow=\"\" #define a new, empty string. This will be the reverse string\n",
    "    for s in word: #for every variable in s\n",
    "        drow=s+drow #define the reverse string as each letter plus itself. This is radically different from saying that drow=drow+s\n",
    "                #addition of numbers is commutative, but of letters it is not. drow=drow+s would return the orignal word\n",
    "    print(\"The reverse is:\", drow) #print the reverse\n",
    "reverse('hello there, i am a crazy cat lady, I have 46!') #test\n",
    "reverse('word')\n",
    "reverse('Happy grading!!')\n"
   ]
  },
  {
   "cell_type": "markdown",
   "metadata": {},
   "source": [
    "###9. Palindrome"
   ]
  },
  {
   "cell_type": "code",
   "execution_count": 9,
   "metadata": {
    "collapsed": false
   },
   "outputs": [
    {
     "name": "stdout",
     "output_type": "stream",
     "text": [
      "False this is not a palindrome\n",
      "True this is a palindrome\n",
      "True this is a palindrome\n"
     ]
    }
   ],
   "source": [
    "def palindrome(word):\n",
    "    \"\"\"The palindrome function checks if an input is a palindrome. A palindrome is a word that can be read the same forwards and\n",
    "        backwards. For example, some common palindromes are\n",
    "                        mom\n",
    "                        racecar\n",
    "                        a man a plan a canal panama\n",
    "                        radar\n",
    "    \"\"\"\n",
    "    drow=\"\" #need to redefine drow as above, to get a single string. Simply saying drow=reverse(word) does not work, because this\n",
    "            #returns three lines of text, instead of simply the reverse\n",
    "    for s in word: #as above...\n",
    "        drow=s+drow #defines drow as just the reverse of the word or phrase    \n",
    "    if word==drow:#test if the string and its reverse are equal. The double equal is a test of equality, not a sign of equality itself\n",
    "        print(True, \"this is a palindrome\") #if the word is the same as its reverse, it is a palindrom\n",
    "    else: # if they are not the same\n",
    "        print(False, \"this is not a palindrome\") #then it is not a palindrom\n",
    "    \n",
    "palindrome('muffintop') #try a few\n",
    "palindrome('radar')\n",
    "palindrome('racecar')"
   ]
  },
  {
   "cell_type": "markdown",
   "metadata": {},
   "source": [
    "###10. Member"
   ]
  },
  {
   "cell_type": "code",
   "execution_count": 10,
   "metadata": {
    "collapsed": false
   },
   "outputs": [
    {
     "name": "stdout",
     "output_type": "stream",
     "text": [
      "True\n",
      "True\n",
      "False\n",
      "False\n"
     ]
    }
   ],
   "source": [
    "def is_member(x, a): \n",
    "    \"\"\"The function is_member tests to see if a single value is a member of a list of values. It's inputs are the single and \n",
    "        list of values.\"\"\"\n",
    "    for n in a: #am i allowed to use the operator in when doing this? not supposed to use operator to check if x in a, but not sure how to do it without being about to go through a piece by piece\n",
    "        #for every n in a, runs through the if-else construct and returns to the top\n",
    "        if x==n: #test if the value is equal to the individual value being tested\n",
    "            result=True #if they are the same, change result to true\n",
    "            break #the break here is important, because it stops the code running onwards. Without it, if we were testing whether\n",
    "                #m was in mama, the result would be false because we are testing m against every individual letter of mama. In\n",
    "                #this case it would return true twice and false twice, but the false would be last and therefore the result would\n",
    "                #only say false. This could be changed by putting the print inside each command for 'if' and 'else,' but then\n",
    "                #you would get a whole list of trues and falses when all you want to know is if the single variable was in the \n",
    "                #string or list as least once.\n",
    "        else:# if x is not equal to n\n",
    "            result=False #result is false\n",
    "    print(result) #print result for user\n",
    "is_member('m', 'mama') #test the function!\n",
    "is_member(3, (3,4,5,6))\n",
    "is_member('s', 'I love programming')\n",
    "is_member(4, (34, 45, 3))"
   ]
  },
  {
   "cell_type": "markdown",
   "metadata": {},
   "source": [
    "###11. Overlapping"
   ]
  },
  {
   "cell_type": "code",
   "execution_count": 11,
   "metadata": {
    "collapsed": false
   },
   "outputs": [
    {
     "name": "stdout",
     "output_type": "stream",
     "text": [
      "False\n",
      "True\n"
     ]
    }
   ],
   "source": [
    "def overlapping(list1, list2):\n",
    "    \"\"\"The overlapping function takes two lists and determines if there are any common elements between them.\"\"\"\n",
    "    for n in list1: #runs through all n's in list1\n",
    "        for m in list2: #runs through all m's in list2. It goes through all the m's in reference to the first n, then all of them\n",
    "                    #again in reference to the second, and so on until the n for-loop stops running\n",
    "            if n==m:#testing the equality of n and m, again by testing all m's against first n, the against second and so on\n",
    "                result=True # if they are equal, they have at least one common element\n",
    "                break #for the same reasons as above, it is very important to break the for-loop here\n",
    "            else: #if they are not the same, \n",
    "                result=False #return is false\n",
    "        if result==True: #becuase this is a double-for loop, we need to have another break if the result is true\n",
    "            break #if this break weren't here, we would only get the correct result if the overlapping element happened to be the\n",
    "                #last element in list1, or the last n. If not, then the loop would run through and replace the result with \n",
    "                #something else.\n",
    "    print(result) #print the result for the user\n",
    "overlapping((1, 2, 6), (3, 4, 5)) #test it out!\n",
    "overlapping((1,2,3), (1,4,5))"
   ]
  },
  {
   "cell_type": "markdown",
   "metadata": {},
   "source": [
    "###12. Generate Characters"
   ]
  },
  {
   "cell_type": "code",
   "execution_count": 12,
   "metadata": {
    "collapsed": false
   },
   "outputs": [
    {
     "name": "stdout",
     "output_type": "stream",
     "text": [
      "xxxxx\n",
      "qqqqqqqqqq\n",
      "\n"
     ]
    }
   ],
   "source": [
    "def generate_n_chars(n, c):\n",
    "    \"\"\"The function generate_n_chars takes in two inputs, a number and a character, and returns the number of those characters \n",
    "        all in a row.\"\"\"\n",
    "    while 0<n:#run the next part while the number is greater than 0\n",
    "        print(c, end='') #print one character at a time, horizontally\n",
    "        n=n-1 #notice that we have already printed one character, so reduce the number left by 1.\n",
    "    print() #move on to the next line so multiple commands will be arranged vertically\n",
    "generate_n_chars(5, 'x') #some examples\n",
    "generate_n_chars(10, 'q')\n",
    "generate_n_chars(0, 'o')"
   ]
  },
  {
   "cell_type": "code",
   "execution_count": null,
   "metadata": {
    "collapsed": true
   },
   "outputs": [],
   "source": []
  },
  {
   "cell_type": "code",
   "execution_count": null,
   "metadata": {
    "collapsed": true
   },
   "outputs": [],
   "source": []
  },
  {
   "cell_type": "code",
   "execution_count": null,
   "metadata": {
    "collapsed": true
   },
   "outputs": [],
   "source": []
  }
 ],
 "metadata": {
  "kernelspec": {
   "display_name": "Python 3",
   "language": "python",
   "name": "python3"
  },
  "language_info": {
   "codemirror_mode": {
    "name": "ipython",
    "version": 3
   },
   "file_extension": ".py",
   "mimetype": "text/x-python",
   "name": "python",
   "nbconvert_exporter": "python",
   "pygments_lexer": "ipython3",
   "version": "3.4.3"
  }
 },
 "nbformat": 4,
 "nbformat_minor": 0
}
