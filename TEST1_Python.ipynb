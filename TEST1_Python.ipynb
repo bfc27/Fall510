{
 "cells": [
  {
   "cell_type": "code",
   "execution_count": 105,
   "metadata": {
    "collapsed": false
   },
   "outputs": [],
   "source": [
    "def polygperim(coords):\n",
    "    \n",
    "    \"\"\" The polygperim function takes coordinates as inputs and returns the perimeter of the function described.\n",
    "    Coords- a list of coordinates in your polygon\"\"\"\n",
    "    import math\n",
    "    coord=[] #create these variables coord, x, y, and area as empty lists. Create variables m and su as numbers 1 and 0.\n",
    "    x=[]\n",
    "    y=[]\n",
    "    area=[]\n",
    "    m=1\n",
    "    perim=0\n",
    "    for k in coords: #iterate through the coordinates given\n",
    "        for j in k: #iterate through the x, y parts of the coordinates\n",
    "            coord.append(j) #makes the coordinates a list of numbers, all out without seperating them\n",
    "    for i in coord: #iterates over this uninterrupted list of numbers\n",
    "        m=m+1 #create the variable to count the number of elements in coord\n",
    "        if m%2==0: #picking out every even number m, so the second number, then the fourth etc.  \n",
    "            y.append(i) #become elements in the list y\n",
    "        else: #and all the odd numbers m, so the first, thrid, etc. elements of coord\n",
    "            x.append(i) #become elements in the list x\n",
    "    le=len(x) #create variable le as the length of x, which will be the same as the length of y\n",
    "    while(le>0): #do the loop while the length variable le is greater than 0\n",
    "        le=le-1 #want to do the loop once for every original coordinate given. Need to do this at the beginning of the loop because len(x) gives the length of coord, which would be, for a square, 4 because there are 4 coordinates. But indexing starts at 0, so the fourth coordinate would be called with x[3] or y[3].\n",
    "        j=le+1 #create variable j as one more than le\n",
    "        if j>len(x)-1: #but want to make sure that we can still properly index. Because Green's Theorem calls for x[n+1]=x[1], need to make sure that if j>length(x)-1 (-1 for the same indexing reason as above), then it will be changed to the first index position, so j=0.\n",
    "            j=0 #return j to the first index position if it goes out of indexing range\n",
    "        root=math.sqrt(((x[j]-x[le])**2)+(y[j]-y[le])**2) #distance formula between two adjacent points. It is necessary that the points be put into the function in order. Otherwise distances will be calculated across the polygon.\n",
    "        perim+=root #perimeter is the sum of all these roots added together\n",
    "    return(perim) #function returns the perimeter\n",
    "        "
   ]
  },
  {
   "cell_type": "code",
   "execution_count": 104,
   "metadata": {
    "collapsed": false
   },
   "outputs": [
    {
     "data": {
      "text/plain": [
       "8.0"
      ]
     },
     "execution_count": 104,
     "metadata": {},
     "output_type": "execute_result"
    }
   ],
   "source": [
    "polygperim([(0,0), (2,0), (2,2), (0,2)]) #test on a square"
   ]
  },
  {
   "cell_type": "code",
   "execution_count": 107,
   "metadata": {
    "collapsed": false
   },
   "outputs": [
    {
     "data": {
      "text/plain": [
       "6.82842712474619"
      ]
     },
     "execution_count": 107,
     "metadata": {},
     "output_type": "execute_result"
    }
   ],
   "source": [
    "polygperim([(0,0), (2,0), (2,2)]) #test on an equilateral triangle"
   ]
  },
  {
   "cell_type": "code",
   "execution_count": 88,
   "metadata": {
    "collapsed": false
   },
   "outputs": [],
   "source": [
    "def polygarea(coords):\n",
    "    \"\"\" The polygarea function takes coordinates as inputs and returns the area of the function described.\n",
    "    Coords- a list of coordinates in your polygon\"\"\"\n",
    "    coord=[] #create these variables coord, x, y, and area as empty lists. Create variables m and su as numbers 1 and 0.\n",
    "    x=[]\n",
    "    y=[]\n",
    "    area=[]\n",
    "    m=1\n",
    "    su=0\n",
    "    for k in coords: #iterate through the coordinates given\n",
    "        for j in k: #iterate through the x, y parts of the coordinates\n",
    "            coord.append(j) #makes the coordinates a list of numbers, all out without seperating them\n",
    "    for i in coord: #iterates over this uninterrupted list of numbers\n",
    "        m=m+1 #create the variable to count the number of elements in coord\n",
    "        if m%2==0: #picking out every even number m, so the second number, then the fourth etc.  \n",
    "            y.append(i) #become elements in the list y\n",
    "        else: #and all the odd numbers m, so the first, thrid, etc. elements of coord\n",
    "            x.append(i) #become elements in the list x\n",
    "    le=len(x) #create variable le as the length of x, which will be the same as the length of y\n",
    "    while(le>0): #do the loop while the length variable le is greater than 0\n",
    "        le=le-1 #want to do the loop once for every original coordinate given. Need to do this at the beginning of the loop because len(x) gives the length of coord, which would be, for a square, 4 because there are 4 coordinates. But indexing starts at 0, so the fourth coordinate would be called with x[3] or y[3].\n",
    "        j=le+1 #create variable j as one more than le\n",
    "        if j>len(x)-1: #but want to make sure that we can still properly index. Because Green's Theorem calls for x[n+1]=x[1], need to make sure that if j>length(x)-1 (-1 for the same indexing reason as above), then it will be changed to the first index position, so j=0.\n",
    "            j=0 #return j to the first index position if it goes out of indexing range\n",
    "        ab=(x[le]*y[j])-(x[j]*y[le]) #start Green's Theorem. I broke it up to make it easier to change individual sections, and to confuse me less. It is possible to put it all together, however.\n",
    "        su+=abs(ab) #continue the absolute value portion of Green's Theorem\n",
    "        area=.5*su #finally, the 1/2 outside the sum\n",
    "    return(area) #the function returns the area."
   ]
  },
  {
   "cell_type": "code",
   "execution_count": 89,
   "metadata": {
    "collapsed": false
   },
   "outputs": [
    {
     "data": {
      "text/plain": [
       "2.0"
      ]
     },
     "execution_count": 89,
     "metadata": {},
     "output_type": "execute_result"
    }
   ],
   "source": [
    "polygarea([(0,0), (2,0), (2,2)]) #test on a square"
   ]
  },
  {
   "cell_type": "code",
   "execution_count": 90,
   "metadata": {
    "collapsed": false
   },
   "outputs": [
    {
     "data": {
      "text/plain": [
       "4.0"
      ]
     },
     "execution_count": 90,
     "metadata": {},
     "output_type": "execute_result"
    }
   ],
   "source": [
    "polygarea([(0,0), (0,2), (2,2), (2,0)]) #test on an equilateral triangle"
   ]
  },
  {
   "cell_type": "code",
   "execution_count": null,
   "metadata": {
    "collapsed": true
   },
   "outputs": [],
   "source": []
  }
 ],
 "metadata": {
  "kernelspec": {
   "display_name": "Python 3",
   "language": "python",
   "name": "python3"
  },
  "language_info": {
   "codemirror_mode": {
    "name": "ipython",
    "version": 3
   },
   "file_extension": ".py",
   "mimetype": "text/x-python",
   "name": "python",
   "nbconvert_exporter": "python",
   "pygments_lexer": "ipython3",
   "version": "3.4.3"
  }
 },
 "nbformat": 4,
 "nbformat_minor": 0
}
